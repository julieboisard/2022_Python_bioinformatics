{
 "cells": [
  {
   "cell_type": "markdown",
   "id": "486b9126-5164-4ea5-8e7d-91ac87377e1f",
   "metadata": {
    "tags": []
   },
   "source": [
    "# Day 5 - Project Day\n",
    "---\n",
    "\n",
    "## Making a standalone python script\n",
    "\n",
    "Save the following in a file called myScript.py"
   ]
  },
  {
   "cell_type": "code",
   "execution_count": null,
   "id": "d12e8f42-24ef-4e2f-b0d5-262a3738519e",
   "metadata": {
    "tags": []
   },
   "outputs": [],
   "source": [
    "#!/path/to/python\n",
    "\n",
    "\"\"\"\n",
    "Description:\n",
    " multiline description, all this text will be displayed as it is\n",
    " so please don't mess this up.\n",
    " You can also add as much section as needed\n",
    "\n",
    "Dependencies:\n",
    "  module1\n",
    "  module2\n",
    "  module3\n",
    "\n",
    "Examples:\n",
    " (1) python script_name -i input_file.ext\n",
    "       The script will automatically create a file based on input file\n",
    " (2) python script_name -i input_file.ext -o output_file\n",
    "\n",
    "Author:\n",
    " YOU\n",
    "\n",
    "\"\"\"\n",
    "################## IMPORTS ################################\n",
    "\n",
    "import argparse\n",
    "\n",
    "\n",
    "\n",
    "\n",
    "\n",
    "################ DEFINITIONS ################################\n",
    "\n",
    "################ ARGUMENTS ##################################\n",
    "\n",
    "parser = argparse.ArgumentParser(description='descriptttttt')\n",
    "parser.add_argument(\"-f\", \"--fasta\", required=True, help=\"fasta\")\n",
    "parser.add_argument(\"-o\", \"--output\",  required=True, help=\"output\")\n",
    "args = parser.parse_args()\n",
    "\n",
    "### Main ### \n",
    "\n",
    "infile = args.fasta\n",
    "outfile = args.output\n",
    "print(\"The fasta file is %s\" % (infile))\n",
    "print(\"The output file is %s\" %(args.output))\n"
   ]
  },
  {
   "cell_type": "markdown",
   "id": "f5ab077f-b127-4b9b-8665-aa1894c66496",
   "metadata": {},
   "source": [
    "## Project\n",
    "\n",
    "\n",
    "Project -  from sequence to annotation. Combine what you have learned. Write a SCRIPT to help you annotate an unknown protein locally - that is, do not simply BLAST your sequence using BLAST online. Your workflow should include at least 3 of the following outputs.\n",
    "\n",
    "\n",
    "- The protein sequence in a fasta file: \"myProtein.fasta\"\n",
    "- A small FASTA file of the most related sequences from the swissprot database (try -evalue 0.01)\n",
    "   - hint, you can use the IDs to search against NCBI with the e-utilities!\n",
    "- A table describing each of the top 30-50 related sequences. For e.g.,\n",
    "   - Description of the sequence (annotation)\n",
    "   - Length in amino acids\n",
    "   - Organism, other taxonomy?\n",
    "   - Other fun facts? GRavy? \n",
    "- A filtered table with ONLY eukaryotes. \n",
    "   - hint: df[df['Domain'] == \"Eukaryota\"]\n",
    "- Multiple sequence alignment of your mystery sequence and the top 30-50 protein\n",
    "    - Challenge: before making the alignment, think about what you would like in your header names. Could taxonomy be helpful? Beware, tools like to split the headers on white space so your sequence IDs will likely go from >myACCESSION myDescription...  to >myACCESSION. \n",
    "- Phylogenetic tree of these proteins (keep the model simple, see example)\n",
    "\n",
    "Practice building the workflow in jupyter notebook, but then convert it to a stand-alone script using arg.parse so you can run it like this: \n",
    "\n",
    "python myScript.py --input (accesionnumber) --output_taxonomy XXX -output_myProtein --output_table ...\n",
    "\n",
    "too many outputs? try: \n",
    "python myScript.py --input (accesionnumber) --output_prefix XXX \n",
    "then, in your script, you can make output files using the prefix 'XXX' and followed by the suffix. We'll show some examples in class.  \n",
    "\n",
    "Your nucleotide sequence is below. \n",
    "\n"
   ]
  },
  {
   "cell_type": "raw",
   "id": "a86f4832-3f5b-4982-ada9-e5255fa29b4c",
   "metadata": {},
   "source": [
    "ATCGGATCTGAGCGAACGGAACGGGTGCGGGTGTTCAAGATGTCCATTCTCAAGATCATCCATGCCCGTG\n",
    "ATATCTTTGAATCCCGTGGGAATCCAACTGTTGAGGTAGACCTTTACACTAACAAGGGTGGTCTGTTCGG\n",
    "AAGAGCTGCTGTTCCTAGCGGTGCCTCAACTGGAATTTATGAAGCTCTGCTGGAACTTCGGGACAATGAC\n",
    "AAGACACGCTACATGGGGGGGAAGGGTGTCTCAAAAGCTGTTGAGCACATTATCAATAAAACAATTGCAC\n",
    "CCGCACTGATTAGCAAGAATGTCAATGTAGTGGAGCAAGACAAGATCGATAACCTGATGCTGGACATGGA\n",
    "TGGATCAGAGAACAAATCTAAATTTGGTGCCAACGCCATCTTGGGTGTATCTCTGGCTGTATGCTCGAAT\n",
    "GCTGGTGCTACTGCTGAGAAGGGTGTCCCCTTGTACCGTCACATTGCTGACCTTGCTGGGAATAACCCAG\n",
    "AAGTCATCCTGCCTGTTCCCGCTTTTAACGTGATCAACGGTGGCTCCCATGCTGGCAATAAGCTGGCTAT\n",
    "GCAGGAGTTCATGATCCCTCCCTGTGGTGCTGACAGGTTTAACGACGCAATCCGCATTGGTGCAGAGGTT\n",
    "TATCACAATCTAAAGAATGTCATCAAGGAGAAGTATGGAAAGGATGCAACCAACGTGGGTGATGAGGGTG\n",
    "GCTTCGCCCCCAACATCCTTGAGAATAAAGAAGCCCTGGAGCTGCTGAAGACTGCCATCGGTAAGGCTGG\n",
    "CTACTCTGACAAGGTTGTCATTGGCATGGATGTGGCTGCCTCAGAGTTCTACCGCGATGGAAAGTATGAC\n",
    "CTGGACTTCAATTCCCCCGATGATCCCAGCAGATACATTTCTCCTGACCAGCTGGCTGACCTGTACAAGG\n",
    "GCTTTGTCCTGGGGCATGCAGTGAAGAACTACCCAGTGGGCGTCTCCATCGAGGACCCCCCATTTGACCA\n",
    "GGATGACTGGGGTGCCTGGAAGAAGCTGTTTACTGGCAGCCTGGTTGGCATCCAAGTGGTTGGAGACGAT\n",
    "CTGACCGTGACTAAGCCCGAAGCGCGTATTGCCAAGGCTGTGGAGGAGGTTAAAGCCTGCAACTGCCTCC\n",
    "TCCTCCTCAAGGTCAACCAGATTGGATCTGTGACGGAGTCCCTACAAGCTTGCAAGCTTGCCCAGTCCAA\n",
    "CGGCTGGGGCGTGATGCCCGTGAGTCACCGCCTCTCCGGAGAAACAGAAGATACCTTCATGGCTGACCTC\n",
    "GTGGTCGGGCTCTGCACTGGTCAGATCAAAACTGGTCCCACTTGCCGATCTGAGCGTCTAGCCAAGTACA\n",
    "ACCAGCTGCTGAGGATTGAAGAGGCTGAGGCTGGCAGCAAGGCCCGCTTTGCTGGAAGAAACTTCAGGAA\n",
    "CCCCCGTATCAACTAAGCTGCGTGGATCGACACCCGTTCTGGTTATGTAAGCACTAGTCACCTACTTAGA\n",
    "CTCACAATTACTTGTATTAGAAGATGAGGGGCAGGCTGAAGAAAAGACCAGTTTGCAGGTCCTCTCCCCT\n",
    "CCTAGATGACTCTCCTTCACCTACAGTGTTTCCACCAGCTCTGATCTGTTACTTGTAACGATCGTGCTTT\n",
    "GTAGAACAATCCCAGTCTTTGATGTTTGGGAGGCTGTTTGACTTGCAGGACAGCAAGACGGTACCTACAA\n",
    "AACAGCTAGTAGTGTTTTTACATGTGATAAATAAAAAGCATCAAACAAAAAAA"
   ]
  }
 ],
 "metadata": {
  "kernelspec": {
   "display_name": "Python 3 (ipykernel)",
   "language": "python",
   "name": "python3"
  },
  "language_info": {
   "codemirror_mode": {
    "name": "ipython",
    "version": 3
   },
   "file_extension": ".py",
   "mimetype": "text/x-python",
   "name": "python",
   "nbconvert_exporter": "python",
   "pygments_lexer": "ipython3",
   "version": "3.10.5"
  }
 },
 "nbformat": 4,
 "nbformat_minor": 5
}
