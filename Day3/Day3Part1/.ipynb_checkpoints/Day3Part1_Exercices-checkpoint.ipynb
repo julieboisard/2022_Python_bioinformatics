{
 "cells": [
  {
   "cell_type": "markdown",
   "id": "c8c14426-d41a-45f0-b662-4cd614696eb6",
   "metadata": {},
   "source": [
    "# Day 3 Part 1 - more exercices!\n",
    "---\n"
   ]
  },
  {
   "cell_type": "markdown",
   "id": "2fdad8af-e472-4e39-9bb1-0ef5a2823ddc",
   "metadata": {},
   "source": [
    "One powerful function of biopython is its ability to read file formats of biological data. Let's try and read in a single fasta sequene from the file \"myFavouriteProtein_ncbi.fasta\""
   ]
  },
  {
   "cell_type": "code",
   "execution_count": 6,
   "id": "afdf8a1d-5356-41f6-ba9e-d9f25b748840",
   "metadata": {},
   "outputs": [
    {
     "name": "stdout",
     "output_type": "stream",
     "text": [
      "<module 'Bio.SeqIO' from '/home/julieb/anaconda3/envs/PythonCourses22/lib/python3.10/site-packages/Bio/SeqIO/__init__.py'>\n"
     ]
    }
   ],
   "source": [
    "from Bio import SeqIO\n",
    "\n",
    "# Here, we call the module SeqIO, let's see what it is\n",
    "SeqIO\n",
    "print(SeqIO)"
   ]
  },
  {
   "cell_type": "markdown",
   "id": "58dfedb3-65a8-4466-85b0-3953caaa08a9",
   "metadata": {},
   "source": [
    "### Reading a single fasta-formatting sequence \n",
    "\n",
    "Reminder, fasta files look like this :"
   ]
  },
  {
   "cell_type": "raw",
   "id": "5a75f643-1cf0-4636-b072-7b2a83fd6065",
   "metadata": {},
   "source": [
    ">Wrapped_seq\n",
    "GGGAAAGGAAGGGGAAAAAAAAATTTTAAAGGAATTAAAGGAATGGAATTTAAAGGAGGAAATTTAAAAGAAAGAAGGGAATTGGTAAGGAAAGGAAAGGAA\n",
    "\n",
    ">MultiLine_seq\n",
    "GGGAATTTGGGGAAATTTAAAAGAAAGAAGGGAATTTGGGGAAATTTAAAAGAAAGAA\n",
    "GGAATTTAAAGGAGGAAATTTAAAAGAAAGAAGGGAATTGGTAAGGAAAGGAAAGGAA"
   ]
  },
  {
   "cell_type": "code",
   "execution_count": 7,
   "id": "6ddb8602-1db7-44a2-ab07-75f16d6dd4c8",
   "metadata": {},
   "outputs": [
    {
     "name": "stdout",
     "output_type": "stream",
     "text": [
      "ID: AKA62179.1\n",
      "Name: AKA62179.1\n",
      "Description: AKA62179.1 putative rhodoquinone biosynthesis methyltransferase-like protein RQUA [Pygsuia biforma]\n",
      "Number of features: 0\n",
      "Seq('MNSLRITSLQRCCSIGFRQFSSLRNTFGCRSFLHSSKFFHSTTVRGNDKEELPE...RIA')\n"
     ]
    }
   ],
   "source": [
    "# myFastaRecord is a single fasta record from the file \n",
    "# myFastaRecord IS NOT a string\n",
    "# myFastaRecord IS NOT a list\n",
    "# myFastaRecord is a Biopython Object = SeqRecord\n",
    "myFastaRecord = SeqIO.read(\"myFavouriteProtein_ncbi.fasta\", \"fasta\")\n",
    "\n",
    "# what does it look like?\n",
    "print(myFastaRecord)"
   ]
  },
  {
   "cell_type": "code",
   "execution_count": 8,
   "id": "dbac18a8-6e92-4bbe-a9ce-aee2a04f3b0b",
   "metadata": {},
   "outputs": [
    {
     "data": {
      "text/plain": [
       "SeqRecord(seq=Seq('MNSLRITSLQRCCSIGFRQFSSLRNTFGCRSFLHSSKFFHSTTVRGNDKEELPE...RIA'), id='AKA62179.1', name='AKA62179.1', description='AKA62179.1 putative rhodoquinone biosynthesis methyltransferase-like protein RQUA [Pygsuia biforma]', dbxrefs=[])"
      ]
     },
     "execution_count": 8,
     "metadata": {},
     "output_type": "execute_result"
    }
   ],
   "source": [
    "# Let's call (not print) myFastaRecord\n",
    "myFastaRecord"
   ]
  },
  {
   "cell_type": "markdown",
   "id": "1db7288f-a7e0-4745-a67b-9abd3fc05d6f",
   "metadata": {},
   "source": [
    "Above, we can see that there is some 'SeqRecord' object that lists all the elements encoded in the object.  You can access all of these elements by typing the string myFastaRecord.XXX "
   ]
  },
  {
   "cell_type": "code",
   "execution_count": 9,
   "id": "3af56202-3f9e-47e1-9ae2-c94469c9b183",
   "metadata": {},
   "outputs": [
    {
     "data": {
      "text/plain": [
       "Seq('MNSLRITSLQRCCSIGFRQFSSLRNTFGCRSFLHSSKFFHSTTVRGNDKEELPE...RIA')"
      ]
     },
     "execution_count": 9,
     "metadata": {},
     "output_type": "execute_result"
    }
   ],
   "source": [
    "# this is the sequence as a biopython object\n",
    "myFastaRecord.seq"
   ]
  },
  {
   "cell_type": "code",
   "execution_count": 10,
   "id": "f4d32d88-3201-4502-9203-e4306c1abcaf",
   "metadata": {},
   "outputs": [
    {
     "name": "stdout",
     "output_type": "stream",
     "text": [
      "MNSLRITSLQRCCSIGFRQFSSLRNTFGCRSFLHSSKFFHSTTVRGNDKEELPEYMANTYHWAYVNPRNVALLDNNFVVNTILFGNYIRIQNFALSEIKQGDQVFMPASVYGSACRNIAKAVGEAGRLDIIDISPIQVVRNTRKLSRYPQVTVLRGDARSFDLQAAYDVACSFMLLHEIPDENKSSVVNNVLNSVKVGGKAVFIDYGRPSTLHPVRPILSFVNDWLEPWAKTLWAHPISSFAAPESQDHFVWETERTIFGGVYQKVVAHRIA\n"
     ]
    }
   ],
   "source": [
    "# this is the sequence as a biopython object\n",
    "print(myFastaRecord.seq)"
   ]
  },
  {
   "cell_type": "code",
   "execution_count": 11,
   "id": "890f1ef2-2db8-4494-ae6f-92275cf64757",
   "metadata": {},
   "outputs": [
    {
     "data": {
      "text/plain": [
       "272"
      ]
     },
     "execution_count": 11,
     "metadata": {},
     "output_type": "execute_result"
    }
   ],
   "source": [
    "# you can query the length of the biopython object using len()\n",
    "len(myFastaRecord.seq)"
   ]
  },
  {
   "cell_type": "code",
   "execution_count": 13,
   "id": "c8f5f2b3-0960-43d7-bd68-d019f08c143b",
   "metadata": {},
   "outputs": [
    {
     "data": {
      "text/plain": [
       "'AKA62179.1 putative rhodoquinone biosynthesis methyltransferase-like protein RQUA [Pygsuia biforma]'"
      ]
     },
     "execution_count": 13,
     "metadata": {},
     "output_type": "execute_result"
    }
   ],
   "source": [
    "# In this box try to query another element of myFastaRecord. \n",
    "# call myFastaRecord to see you option (press play)\n",
    "# or try tabbing with a 'myFastaRecord.'\n",
    "myFastaRecord.description\n"
   ]
  },
  {
   "cell_type": "markdown",
   "id": "9d395e28-df20-4b43-a0b2-5e7084949d17",
   "metadata": {},
   "source": [
    "Let's try and get some information out of the description.  Write a conditional statement asking whether there is a string 'protein' in the description of the sequence.  "
   ]
  },
  {
   "cell_type": "code",
   "execution_count": 16,
   "id": "8b711df2-79c9-4013-ac2e-82516cc1584c",
   "metadata": {},
   "outputs": [
    {
     "data": {
      "text/plain": [
       "True"
      ]
     },
     "execution_count": 16,
     "metadata": {},
     "output_type": "execute_result"
    }
   ],
   "source": [
    "# Does this protein description have the word 'protein'\n",
    "\"protein\" in myFastaRecord.description\n"
   ]
  },
  {
   "cell_type": "code",
   "execution_count": 19,
   "id": "fe3e702e-3d05-482d-af9e-561bf1c59b73",
   "metadata": {},
   "outputs": [
    {
     "data": {
      "text/plain": [
       "'AKA62179.1'"
      ]
     },
     "execution_count": 19,
     "metadata": {},
     "output_type": "execute_result"
    }
   ],
   "source": [
    "# What is the accession number (=id) of this protein? \n",
    "myFastaRecord.id\n",
    "# store the accession number in a variable \n",
    "mySeqID = myFastaRecord.id\n",
    "mySeqID"
   ]
  },
  {
   "cell_type": "markdown",
   "id": "72b2492b-0bbc-4366-a1bf-d1bfd0ea6b45",
   "metadata": {},
   "source": [
    "## Parsing a file with more than one sequence\n",
    "\n",
    "To parse a larger file, it is best to read through the file sequence by sequence and store the information you are interested in. We can do this using the SeqIO.parse()"
   ]
  },
  {
   "cell_type": "code",
   "execution_count": 20,
   "id": "32289cb3-5ea4-4ec4-af36-e68e4c7809f1",
   "metadata": {},
   "outputs": [
    {
     "data": {
      "text/plain": [
       "<Bio.SeqIO.FastaIO.FastaIterator at 0x7f2150e5e9e0>"
      ]
     },
     "execution_count": 20,
     "metadata": {},
     "output_type": "execute_result"
    }
   ],
   "source": [
    "SeqIO.parse(\"NFU1_proteins.fasta\", \"fasta\")"
   ]
  },
  {
   "cell_type": "markdown",
   "id": "0dbc02d9-0d1e-45a7-8920-47323b955137",
   "metadata": {},
   "source": [
    "Here it says that this object is a 'Fasta Iterator' this gives you a hint that whatever is stored in this object is iterable - that is, you can iterate over it. Just like you would iterate over a list, dictionary or string. "
   ]
  },
  {
   "cell_type": "code",
   "execution_count": null,
   "id": "d14fc787-e793-4b61-808e-7df0ba616235",
   "metadata": {},
   "outputs": [],
   "source": [
    "for record in SeqIO.parse(\"NFU1_proteins.fasta\", \"fasta\"):\n",
    "    print(record)"
   ]
  },
  {
   "cell_type": "code",
   "execution_count": 23,
   "id": "a8f3aa57-f887-4b06-900f-e0ab49acf60c",
   "metadata": {},
   "outputs": [
    {
     "name": "stdout",
     "output_type": "stream",
     "text": [
      "ID: Q9UMS0.2\n",
      "Name: Q9UMS0.2\n",
      "Description: Q9UMS0.2 RecName: Full=NFU1 iron-sulfur cluster scaffold homolog, mitochondrial; AltName: Full=HIRA-interacting protein 5; Flags: Precursor [Homo sapiens]\n",
      "Number of features: 0\n",
      "Seq('MAATARRGWGAAAVAAGLRRRFCHMLKNPYTIKKQPLHQFVQRPLFPLPAAFYH...NSP')\n",
      "ID: Q9QZ23.2\n",
      "Name: Q9QZ23.2\n",
      "Description: Q9QZ23.2 RecName: Full=NFU1 iron-sulfur cluster scaffold homolog, mitochondrial; AltName: Full=HIRA-interacting protein 5; Short=mHIRIP5; Flags: Precursor [Mus musculus]\n",
      "Number of features: 0\n",
      "Seq('MAAAERAWGAAVGVVRLCRRFCHVATPHTFKKQPLHQYVRRPLFPLRAPLCNTV...NSS')\n",
      "ID: B4M375.1\n",
      "Name: B4M375.1\n",
      "Description: B4M375.1 RecName: Full=NFU1 iron-sulfur cluster scaffold homolog, mitochondrial; Flags: Precursor [Drosophila virilis]\n",
      "Number of features: 0\n",
      "Seq('MSKLISYAAKNTLRNTRLGANPICQHATRDYMHLAAASAARNTYSTPAVGFAKQ...TPN')\n"
     ]
    }
   ],
   "source": [
    "# let's print just the first 3 records to the screen.\n",
    "# hint: we can use 'break' to stop the for loop if \n",
    "# we need to\n",
    "\n",
    "counter = 0\n",
    "for record in list(SeqIO.parse(\"NFU1_proteins.fasta\", \"fasta\")):\n",
    "    counter +=1\n",
    "    if counter <= 3 :\n",
    "        print(record)\n",
    "    else:\n",
    "        break\n",
    "\n"
   ]
  },
  {
   "cell_type": "markdown",
   "id": "e02cc55c-4e60-47a4-b92f-9c087be69120",
   "metadata": {},
   "source": []
  },
  {
   "cell_type": "code",
   "execution_count": 46,
   "id": "e9e7f04c-f57a-4d83-881a-5263c2c10288",
   "metadata": {},
   "outputs": [
    {
     "name": "stdout",
     "output_type": "stream",
     "text": [
      "B4M375.1 RecName: Full=NFU1 iron-sulfur cluster scaffold homolog, mitochondrial; Flags: Precursor [Drosophila virilis]\n",
      "B3MRT7.1 RecName: Full=NFU1 iron-sulfur cluster scaffold homolog, mitochondrial; Flags: Precursor [Drosophila ananassae]\n",
      "B4JWR9.1 RecName: Full=NFU1 iron-sulfur cluster scaffold homolog, mitochondrial; Flags: Precursor [Drosophila grimshawi]\n",
      "B4H303.1 RecName: Full=NFU1 iron-sulfur cluster scaffold homolog, mitochondrial; Flags: Precursor [Drosophila persimilis]\n",
      "B5DKJ8.1 RecName: Full=NFU1 iron-sulfur cluster scaffold homolog, mitochondrial; Flags: Precursor [Drosophila pseudoobscura pseudoobscura]\n",
      "B4NE93.1 RecName: Full=NFU1 iron-sulfur cluster scaffold homolog, mitochondrial; Flags: Precursor [Drosophila willistoni]\n",
      "B4PZ52.1 RecName: Full=NFU1 iron-sulfur cluster scaffold homolog, mitochondrial; Flags: Precursor [Drosophila yakuba]\n",
      "Q8SY96.1 RecName: Full=NFU1 iron-sulfur cluster scaffold homolog, mitochondrial; Flags: Precursor [Drosophila melanogaster]\n",
      "B4IMF6.1 RecName: Full=NFU1 iron-sulfur cluster scaffold homolog, mitochondrial; Flags: Precursor [Drosophila sechellia]\n",
      "B3NYF7.1 RecName: Full=NFU1 iron-sulfur cluster scaffold homolog, mitochondrial; Flags: Precursor [Drosophila erecta]\n",
      "B4R3T1.1 RecName: Full=NFU1 iron-sulfur cluster scaffold homolog, mitochondrial; Flags: Precursor [Drosophila simulans]\n",
      "[SeqRecord(seq=Seq('MSKLISYAAKNTLRNTRLGANPICQHATRDYMHLAAASAARNTYSTPAVGFAKQ...TPN'), id='B4M375.1', name='B4M375.1', description='B4M375.1 RecName: Full=NFU1 iron-sulfur cluster scaffold homolog, mitochondrial; Flags: Precursor [Drosophila virilis]', dbxrefs=[]), SeqRecord(seq=Seq('MSKLLTNTALSTFRSTRFAARQLSRNFGGIASTAQPVNLKAGYGLDYKKGLLQT...GTN'), id='B3MRT7.1', name='B3MRT7.1', description='B3MRT7.1 RecName: Full=NFU1 iron-sulfur cluster scaffold homolog, mitochondrial; Flags: Precursor [Drosophila ananassae]', dbxrefs=[]), SeqRecord(seq=Seq('MSKLISYAAKSPLRNIRLGATQIICQHASTDCMHMAASASASSSARKTYSTLAV...TQN'), id='B4JWR9.1', name='B4JWR9.1', description='B4JWR9.1 RecName: Full=NFU1 iron-sulfur cluster scaffold homolog, mitochondrial; Flags: Precursor [Drosophila grimshawi]', dbxrefs=[]), SeqRecord(seq=Seq('MSKLLSYTARIILRNSRITVRQLVRGFAGFVSGQRNAPQPAYGRPVPGLLRQKM...GPN'), id='B4H303.1', name='B4H303.1', description='B4H303.1 RecName: Full=NFU1 iron-sulfur cluster scaffold homolog, mitochondrial; Flags: Precursor [Drosophila persimilis]', dbxrefs=[]), SeqRecord(seq=Seq('MSKLLSYTARIILRNSRTTVRQLGQEGVRGFAGFVSGQRNAPQPAYGRPVPGLL...GPN'), id='B5DKJ8.1', name='B5DKJ8.1', description='B5DKJ8.1 RecName: Full=NFU1 iron-sulfur cluster scaffold homolog, mitochondrial; Flags: Precursor [Drosophila pseudoobscura pseudoobscura]', dbxrefs=[]), SeqRecord(seq=Seq('MAKLISYAKGGFLRNTRLTSRAVPQVYQHATSSRGFVHLTSSVAQSSAIHVSTP...PAN'), id='B4NE93.1', name='B4NE93.1', description='B4NE93.1 RecName: Full=NFU1 iron-sulfur cluster scaffold homolog, mitochondrial; Flags: Precursor [Drosophila willistoni]', dbxrefs=[]), SeqRecord(seq=Seq('MSKFLSQAALNTLRNTRLGSRQLVRSFAGIASTRNHSEPARQEEVYGQARGRSL...GPQ'), id='B4PZ52.1', name='B4PZ52.1', description='B4PZ52.1 RecName: Full=NFU1 iron-sulfur cluster scaffold homolog, mitochondrial; Flags: Precursor [Drosophila yakuba]', dbxrefs=[]), SeqRecord(seq=Seq('MSKFLSQAALNTLRNTRLGSRQLVRSFKGISNTRNHRIPAHQESGCGHSVGCGL...GPH'), id='Q8SY96.1', name='Q8SY96.1', description='Q8SY96.1 RecName: Full=NFU1 iron-sulfur cluster scaffold homolog, mitochondrial; Flags: Precursor [Drosophila melanogaster]', dbxrefs=[]), SeqRecord(seq=Seq('MSKFLSQAAINTLRNTRLGSRQLVRSFAGISNTRNHREAGHQEWGCGQSAGRGL...GPH'), id='B4IMF6.1', name='B4IMF6.1', description='B4IMF6.1 RecName: Full=NFU1 iron-sulfur cluster scaffold homolog, mitochondrial; Flags: Precursor [Drosophila sechellia]', dbxrefs=[]), SeqRecord(seq=Seq('MSKFLSQAALNTLRNTRLGSRQLVRSFAGIASTRNHREPAHQEPGCGQALGRGL...GPH'), id='B3NYF7.1', name='B3NYF7.1', description='B3NYF7.1 RecName: Full=NFU1 iron-sulfur cluster scaffold homolog, mitochondrial; Flags: Precursor [Drosophila erecta]', dbxrefs=[]), SeqRecord(seq=Seq('MSKFLSQAAINTLRNTRLGSRQLVRSFAGISNTRNHRGAGHQEWGCGQSAERGL...GPH'), id='B4R3T1.1', name='B4R3T1.1', description='B4R3T1.1 RecName: Full=NFU1 iron-sulfur cluster scaffold homolog, mitochondrial; Flags: Precursor [Drosophila simulans]', dbxrefs=[])]\n"
     ]
    }
   ],
   "source": [
    "# Find all the records with 'Drosophila' in the description\n",
    "# print them to screen AND store their record object in a list \n",
    "# myFlies \n",
    "\n",
    "myFlies = []\n",
    "\n",
    "for record in list(SeqIO.parse(\"NFU1_proteins.fasta\", \"fasta\")):\n",
    "    description = record.description\n",
    "    if 'Drosophila' in description:\n",
    "        print(record.description)\n",
    "\n",
    "for record in list(SeqIO.parse(\"NFU1_proteins.fasta\", \"fasta\")):\n",
    "    description = record.description\n",
    "    if 'Drosophila' in description:\n",
    "          myFlies.append(record)\n",
    "\n",
    "print(myFlies)\n"
   ]
  },
  {
   "cell_type": "markdown",
   "id": "8ae1078d-18a6-409c-bea7-12800e223548",
   "metadata": {},
   "source": []
  },
  {
   "cell_type": "code",
   "execution_count": 52,
   "id": "ea32ee03-2da8-4868-95a7-a49397fded05",
   "metadata": {},
   "outputs": [
    {
     "name": "stdout",
     "output_type": "stream",
     "text": [
      "The sequence B4M375.1 is 298 amino acids long\n",
      "The sequence B3MRT7.1 is 286 amino acids long\n",
      "The sequence B4JWR9.1 is 298 amino acids long\n",
      "The sequence B4H303.1 is 282 amino acids long\n",
      "The sequence B5DKJ8.1 is 286 amino acids long\n",
      "The sequence B4NE93.1 is 289 amino acids long\n",
      "The sequence B4PZ52.1 is 283 amino acids long\n",
      "The sequence Q8SY96.1 is 283 amino acids long\n",
      "The sequence B4IMF6.1 is 283 amino acids long\n",
      "The sequence B3NYF7.1 is 283 amino acids long\n",
      "The sequence B4R3T1.1 is 283 amino acids long\n"
     ]
    }
   ],
   "source": [
    "# Let's try and perform some actions on the myFlies records    \n",
    "# Try printing the length of every sequences \n",
    "\n",
    "for record in myFlies:\n",
    "    print(\"The sequence %s is %i amino acids long\" % ((record.id), len(record.seq)))"
   ]
  },
  {
   "cell_type": "code",
   "execution_count": 57,
   "id": "aa202668-80ed-405a-a454-c607e3f2cff4",
   "metadata": {},
   "outputs": [
    {
     "name": "stdout",
     "output_type": "stream",
     "text": [
      "The sequence B4M375.1 has 24 Alanines\n",
      "The sequence B3MRT7.1 has 21 Alanines\n",
      "The sequence B4JWR9.1 has 22 Alanines\n",
      "The sequence B4H303.1 has 17 Alanines\n",
      "The sequence B5DKJ8.1 has 16 Alanines\n",
      "The sequence B4NE93.1 has 20 Alanines\n",
      "The sequence B4PZ52.1 has 17 Alanines\n",
      "The sequence Q8SY96.1 has 13 Alanines\n",
      "The sequence B4IMF6.1 has 16 Alanines\n",
      "The sequence B3NYF7.1 has 18 Alanines\n",
      "The sequence B4R3T1.1 has 16 Alanines\n"
     ]
    }
   ],
   "source": [
    "# Let's count the number of Alanines in each sequence from myFlies\n",
    "# print 'this sequence has XX Alanines'\n",
    "for record in myFlies:\n",
    "    sequence = record.seq\n",
    "    print(\"The sequence %s has %i Alanines\" % ((record.id), sequence.count('A')))"
   ]
  }
 ],
 "metadata": {
  "kernelspec": {
   "display_name": "Python 3 (ipykernel)",
   "language": "python",
   "name": "python3"
  },
  "language_info": {
   "codemirror_mode": {
    "name": "ipython",
    "version": 3
   },
   "file_extension": ".py",
   "mimetype": "text/x-python",
   "name": "python",
   "nbconvert_exporter": "python",
   "pygments_lexer": "ipython3",
   "version": "3.10.5"
  }
 },
 "nbformat": 4,
 "nbformat_minor": 5
}
