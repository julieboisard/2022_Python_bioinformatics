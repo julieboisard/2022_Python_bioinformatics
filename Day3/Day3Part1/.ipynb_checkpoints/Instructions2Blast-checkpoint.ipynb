{
 "cells": [
  {
   "cell_type": "markdown",
   "id": "8b325bd5-64fa-4216-9aee-e7acfd024569",
   "metadata": {},
   "source": [
    "# BLAST WITH Python\n",
    "\n",
    "To blast with biopython: \n",
    "\n",
    "- put the swissprot database files (swissprot.\\*) from the google drive Day4 into a directory called 'BLASTdb'\n",
    "- generate the command-lind (cline) for the BLASTP package as follows"
   ]
  },
  {
   "cell_type": "code",
   "execution_count": null,
   "id": "6f5cd5ac-8481-4f87-9517-e02cfca80f60",
   "metadata": {},
   "outputs": [],
   "source": [
    "from Bio.Blast.Applications import NcbiblastpCommandline\n",
    "\n",
    "blastp_cline = NcbiblastpCommandline(query=\"blastQuery.fasta\", # query file (protein)\n",
    "                                     db=\"BLASTdb/swissprot\",  # path2database\n",
    "                                     out=\"YOUROUTPUT\" , # output file - make i\n",
    "                                     outfmt=\"6\", # csv format\n",
    "                                     evalue=0.001) # evalue cuutoff, 0.001 is fine\n",
    "print(blastp_cline) # make sure it looks ok \n",
    "blastp_cline"
   ]
  }
 ],
 "metadata": {
  "kernelspec": {
   "display_name": "Python 3 (ipykernel)",
   "language": "python",
   "name": "python3"
  },
  "language_info": {
   "codemirror_mode": {
    "name": "ipython",
    "version": 3
   },
   "file_extension": ".py",
   "mimetype": "text/x-python",
   "name": "python",
   "nbconvert_exporter": "python",
   "pygments_lexer": "ipython3",
   "version": "3.10.5"
  }
 },
 "nbformat": 4,
 "nbformat_minor": 5
}
