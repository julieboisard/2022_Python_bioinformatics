{
 "cells": [
  {
   "cell_type": "markdown",
   "id": "55ad06d4-b76b-4f6f-88b5-6a4db236739c",
   "metadata": {},
   "source": [
    "# Part 7  \n",
    "---\n",
    "\n",
    "## Multiple sequence aligners + Phylogenetics\n",
    "\n",
    "For more information about the theory behind of multiple sequence alignment, please see these resources:\n",
    "\n",
    "- https://academic.oup.com/bib/article/17/6/1009/2606431\n",
    "- https://www.hindawi.com/journals/isrn/2013/615630/\n",
    "\n",
    "Note: There is a user-friend tool called MEGA that is likely sufficient for analyzing closely related species (within a phylum). However, it lacks some of the more sophisticated phylogenetic methods https://www.megasoftware.net/\n",
    "\n",
    "### Aligners\n",
    "\n",
    "Here is a list of recommended aligners (non-exhaustive). Unfortunately, most do not have Windows packages, however some of them do have webservers.  \n",
    "- [MAFFT](https://mafft.cbrc.jp/alignment/software/) \n",
    "- [T-COFFEE](http://www.tcoffee.org/Projects/tcoffee/workshops/tcoffeetutorials/installation.html)\n",
    "- [MUSCLE](https://www.drive5.com/muscle/) -- Has a windows distribution!\n",
    "- [HMMER](http://hmmer.org/) *great for aligning distantly related proteins*\n",
    "  - Profile alignment, guides the alignment of your sequences using a well curated template file. \n",
    "\n",
    "### Alignment viewers\n",
    "\n",
    "The most popular viewer on the market is [Jalview](https://www.jalview.org/), but there are older alternatives such as [SeaView](http://doua.prabi.fr/software/seaview).\n",
    "\n",
    "### Masking alignments\n",
    "\n",
    "If you want to proceed to phylogenetic analysis you can treat your alignment with a 'masking' method. This is a way to 'mask' or 'hide' regions of the alignment that might be misaligned (and therefore non-homologous). Historically, this was done by eye (yep..) but now we have tools to help us out! My favourites are: \n",
    "\n",
    "- [BMGE](https://bmcecolevol.biomedcentral.com/articles/10.1186/1471-2148-10-210)\n",
    "- [trimal](http://trimal.cgenomics.org/) -- has a windows distribution\n",
    "- [divvier](https://github.com/simonwhelan/Divvier) # advanced user\n",
    "\n",
    "### Phylogenetic Analyses\n",
    "\n",
    "Finally, for phylogenetic analyses, I recommend Maximum-likelihood or Bayesian methods:\n",
    "\n",
    "- [IQTREE](http://www.iqtree.org/)\n",
    "- [RAxML](https://cme.h-its.org/exelixis/web/software/raxml/)\n",
    "- [PhyloBayes](http://www.atgc-montpellier.fr/phylobayes/)\n",
    "\n",
    "### TreeViewers\n",
    "\n",
    "- [FIGTREE](http://tree.bio.ed.ac.uk/software/figtree/)\n",
    "- [iTOL](https://itol.embl.de/)\n",
    "\n"
   ]
  },
  {
   "cell_type": "markdown",
   "id": "c7bb5a53-7f33-4e09-a7a2-cdfbbcf2a226",
   "metadata": {},
   "source": [
    "Since muscle has a windows distribution let's try and get that working.  Mac/unix/colab users head to the next section\n",
    "\n",
    "### Windows\n",
    "\n",
    "Window's folks head to this link and download the executable (tar.gz again): \n",
    "\n",
    "https://www.drive5.com/muscle/downloads.htm\n",
    "\n",
    "http://trimal.cgenomics.org/downloads\n",
    "\n",
    "http://www.iqtree.org/#download\n",
    "\n",
    "\n",
    "Note the path where you have downlodaded these including the \\bin\\\n"
   ]
  },
  {
   "cell_type": "code",
   "execution_count": null,
   "id": "06f2b420-be4f-4554-afdb-c452095e9bd5",
   "metadata": {},
   "outputs": [],
   "source": [
    "# Set the path variable for each package\n",
    "!set PATH=%PATH%;C:\\your\\path\\here\\\n",
    "!muscle"
   ]
  },
  {
   "cell_type": "code",
   "execution_count": null,
   "id": "9726eb2b-25fc-43b6-ab12-0e0bdc3ab09d",
   "metadata": {
    "tags": []
   },
   "outputs": [],
   "source": [
    "### MAC/UNIX/COLLAB\n",
    "\n",
    "!conda install --yes -c bioconda muscle\n",
    "!conda install -c bioconda --yes trimal\n",
    "!conda install --yes -c bioconda iqtree\n"
   ]
  },
  {
   "cell_type": "code",
   "execution_count": null,
   "id": "32f2625e-0d6f-4369-ba39-68bd9488a253",
   "metadata": {},
   "outputs": [],
   "source": [
    "!muscle "
   ]
  },
  {
   "cell_type": "code",
   "execution_count": null,
   "id": "1056fa52-ab7f-4ce2-8e17-481baf292c15",
   "metadata": {
    "tags": []
   },
   "outputs": [],
   "source": [
    "## Run the aligner using mafft\n",
    "## It will save to the file SDHA_ncbi.mus.fasta \n",
    "\n",
    "!muscle -quiet -in SDHA_ncbi.fasta -out SDHA_ncbi.mus.fasta \n",
    "\n",
    "## Run the 'masking' or 'trimming' tool\n",
    "\n",
    "!trimal -gappyout -in SDHA_ncbi.mus.fasta  -out SDHA_ncbi.mus.go.fasta \n"
   ]
  },
  {
   "cell_type": "code",
   "execution_count": null,
   "id": "24866bba-69e7-45b8-beeb-d6d6c9f25784",
   "metadata": {},
   "outputs": [],
   "source": [
    "## Run the tree making tool \n",
    "\n",
    "!iqtree -s SDHA_ncbi.mus.go.fasta --mset LG,WAG --mrate G,I -bb 1000 -pre SDHA_ncbi.mus.go.mfp -quiet\n"
   ]
  },
  {
   "cell_type": "markdown",
   "id": "96d4c9fc-abab-4886-91df-e09358d833fa",
   "metadata": {
    "tags": []
   },
   "source": [
    "## Making a standalone python script\n",
    "\n",
    "Save the following in a file called myScript.py"
   ]
  },
  {
   "cell_type": "code",
   "execution_count": null,
   "id": "fbd5e006-fc70-4ec0-8629-03c1f914350a",
   "metadata": {
    "tags": []
   },
   "outputs": [],
   "source": [
    "#!/path/to/python\n",
    "\n",
    "\"\"\"\n",
    "Description:\n",
    " multiline description, all this text will be displayed as it is\n",
    " so please don't mess this up.\n",
    " You can also add as much section as needed\n",
    "\n",
    "Dependencies:\n",
    "  module1\n",
    "  module2\n",
    "  module3\n",
    "\n",
    "Examples:\n",
    " (1) python script_name -i input_file.ext\n",
    "       The script will automatically create a file based on input file\n",
    " (2) python script_name -i input_file.ext -o output_file\n",
    "\n",
    "Author:\n",
    " YOU\n",
    "\n",
    "\"\"\"\n",
    "################## IMPORTS ################################\n",
    "\n",
    "import argparse\n",
    "\n",
    "\n",
    "\n",
    "\n",
    "\n",
    "################ DEFINITIONS ################################\n",
    "\n",
    "################ ARGUMENTS ##################################\n",
    "\n",
    "parser = argparse.ArgumentParser(description='descriptttttt')\n",
    "parser.add_argument(\"-f\", \"--fasta\", required=True, help=\"fasta\")\n",
    "parser.add_argument(\"-o\", \"--output\",  required=True, help=\"output\")\n",
    "args = parser.parse_args()\n",
    "\n",
    "### Main ### \n",
    "\n",
    "infile = args.fasta\n",
    "outfile = args.output\n",
    "print(\"The fasta file is %s\" % (infile))\n",
    "print(\"The output file is %s\" %(args.output))\n"
   ]
  },
  {
   "cell_type": "code",
   "execution_count": null,
   "id": "9269b2b3-7f4a-44d8-946e-b8ef0e95999c",
   "metadata": {},
   "outputs": [],
   "source": []
  },
  {
   "cell_type": "code",
   "execution_count": null,
   "id": "5e9c8900-3c00-4d56-a3ab-44f5eca32427",
   "metadata": {},
   "outputs": [],
   "source": []
  },
  {
   "cell_type": "code",
   "execution_count": null,
   "id": "a24c34c4-659d-4cb4-9e59-eba6a9aaabe7",
   "metadata": {},
   "outputs": [],
   "source": []
  },
  {
   "cell_type": "markdown",
   "id": "d52eb4e9-11be-4c94-9b73-7fa5019d527f",
   "metadata": {},
   "source": [
    "## Project\n",
    "\n",
    "\n",
    "Project - from sequence to annotation. Combine what you have learned. Write a SCRIPT to help you annotate an unknown protein locally - that is, do not simply BLAST your sequence using BLAST online. Your workflow should include at least 3 of the following outputs.\n",
    "\n",
    "\n",
    "- The protein sequence in a fasta file: \"myProtein.fasta\"\n",
    "- A small FASTA file of the most related sequences from the swissprot database (try -evalue 0.01)\n",
    "   - hint, you can use the IDs to search against NCBI with the e-utilities!\n",
    "- A table describing each of the top 30-50 related sequences. For e.g.,\n",
    "   - Description of the sequence (annotation)\n",
    "   - Length in amino acids\n",
    "   - Organism, other taxonomy?\n",
    "   - Other fun facts? GRavy? \n",
    "- A filtered table with ONLY eukaryotes. \n",
    "   - hint: df[df['Domain'] == \"Eukaryota\"]\n",
    "- Multiple sequence alignment of your mystery sequence and the top 30-50 protein\n",
    "    - Challenge: before making the alignment, think about what you would like in your header names. Could taxonomy be helpful? Beware, tools like to split the headers on white space so your sequence IDs will likely go from >myACCESSION myDescription...  to >myACCESSION. \n",
    "- Phylogenetic tree of these proteins (keep the model simple, see example)\n",
    "\n",
    "Practice building the workflow in jupyter notebook, but then convert it to a stand-alone script using arg.parse so you can run it like this: \n",
    "\n",
    "python myScript.py --input (accesionnumber) --output_taxonomy XXX -output_myProtein --output_table ...\n",
    "\n",
    "too many outputs? try: \n",
    "python myScript.py --input (accesionnumber) --output_prefix XXX \n",
    "then, in your script, you can make output files using the prefix 'XXX' and followed by the suffix. We'll show some examples in class.  \n",
    "\n",
    "Your nucleotide sequence is below. \n",
    "\n"
   ]
  },
  {
   "cell_type": "raw",
   "id": "6f7d46b5-8013-4ab4-a2f8-ec7dcee3f8bf",
   "metadata": {},
   "source": [
    "ATCGGATCTGAGCGAACGGAACGGGTGCGGGTGTTCAAGATGTCCATTCTCAAGATCATCCATGCCCGTG\n",
    "ATATCTTTGAATCCCGTGGGAATCCAACTGTTGAGGTAGACCTTTACACTAACAAGGGTGGTCTGTTCGG\n",
    "AAGAGCTGCTGTTCCTAGCGGTGCCTCAACTGGAATTTATGAAGCTCTGCTGGAACTTCGGGACAATGAC\n",
    "AAGACACGCTACATGGGGGGGAAGGGTGTCTCAAAAGCTGTTGAGCACATTATCAATAAAACAATTGCAC\n",
    "CCGCACTGATTAGCAAGAATGTCAATGTAGTGGAGCAAGACAAGATCGATAACCTGATGCTGGACATGGA\n",
    "TGGATCAGAGAACAAATCTAAATTTGGTGCCAACGCCATCTTGGGTGTATCTCTGGCTGTATGCTCGAAT\n",
    "GCTGGTGCTACTGCTGAGAAGGGTGTCCCCTTGTACCGTCACATTGCTGACCTTGCTGGGAATAACCCAG\n",
    "AAGTCATCCTGCCTGTTCCCGCTTTTAACGTGATCAACGGTGGCTCCCATGCTGGCAATAAGCTGGCTAT\n",
    "GCAGGAGTTCATGATCCCTCCCTGTGGTGCTGACAGGTTTAACGACGCAATCCGCATTGGTGCAGAGGTT\n",
    "TATCACAATCTAAAGAATGTCATCAAGGAGAAGTATGGAAAGGATGCAACCAACGTGGGTGATGAGGGTG\n",
    "GCTTCGCCCCCAACATCCTTGAGAATAAAGAAGCCCTGGAGCTGCTGAAGACTGCCATCGGTAAGGCTGG\n",
    "CTACTCTGACAAGGTTGTCATTGGCATGGATGTGGCTGCCTCAGAGTTCTACCGCGATGGAAAGTATGAC\n",
    "CTGGACTTCAATTCCCCCGATGATCCCAGCAGATACATTTCTCCTGACCAGCTGGCTGACCTGTACAAGG\n",
    "GCTTTGTCCTGGGGCATGCAGTGAAGAACTACCCAGTGGGCGTCTCCATCGAGGACCCCCCATTTGACCA\n",
    "GGATGACTGGGGTGCCTGGAAGAAGCTGTTTACTGGCAGCCTGGTTGGCATCCAAGTGGTTGGAGACGAT\n",
    "CTGACCGTGACTAAGCCCGAAGCGCGTATTGCCAAGGCTGTGGAGGAGGTTAAAGCCTGCAACTGCCTCC\n",
    "TCCTCCTCAAGGTCAACCAGATTGGATCTGTGACGGAGTCCCTACAAGCTTGCAAGCTTGCCCAGTCCAA\n",
    "CGGCTGGGGCGTGATGCCCGTGAGTCACCGCCTCTCCGGAGAAACAGAAGATACCTTCATGGCTGACCTC\n",
    "GTGGTCGGGCTCTGCACTGGTCAGATCAAAACTGGTCCCACTTGCCGATCTGAGCGTCTAGCCAAGTACA\n",
    "ACCAGCTGCTGAGGATTGAAGAGGCTGAGGCTGGCAGCAAGGCCCGCTTTGCTGGAAGAAACTTCAGGAA\n",
    "CCCCCGTATCAACTAAGCTGCGTGGATCGACACCCGTTCTGGTTATGTAAGCACTAGTCACCTACTTAGA\n",
    "CTCACAATTACTTGTATTAGAAGATGAGGGGCAGGCTGAAGAAAAGACCAGTTTGCAGGTCCTCTCCCCT\n",
    "CCTAGATGACTCTCCTTCACCTACAGTGTTTCCACCAGCTCTGATCTGTTACTTGTAACGATCGTGCTTT\n",
    "GTAGAACAATCCCAGTCTTTGATGTTTGGGAGGCTGTTTGACTTGCAGGACAGCAAGACGGTACCTACAA\n",
    "AACAGCTAGTAGTGTTTTTACATGTGATAAATAAAAAGCATCAAACAAAAAAA"
   ]
  },
  {
   "cell_type": "code",
   "execution_count": null,
   "id": "67b15224-6648-4272-9f93-015c0207fb5a",
   "metadata": {},
   "outputs": [],
   "source": []
  }
 ],
 "metadata": {
  "kernelspec": {
   "display_name": "Python 3 (ipykernel)",
   "language": "python",
   "name": "python3"
  },
  "language_info": {
   "codemirror_mode": {
    "name": "ipython",
    "version": 3
   },
   "file_extension": ".py",
   "mimetype": "text/x-python",
   "name": "python",
   "nbconvert_exporter": "python",
   "pygments_lexer": "ipython3",
   "version": "3.10.5"
  }
 },
 "nbformat": 4,
 "nbformat_minor": 5
}
