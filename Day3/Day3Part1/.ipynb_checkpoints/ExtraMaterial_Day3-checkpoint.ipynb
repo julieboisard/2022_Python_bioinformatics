{
 "cells": [
  {
   "cell_type": "markdown",
   "id": "c8c14426-d41a-45f0-b662-4cd614696eb6",
   "metadata": {},
   "source": [
    "# Extra material Day 3 \n",
    "\n",
    "Review of biopython and more exercises!\n",
    "\n",
    "For those of you feeling confident with biopython, head down towards the recommended Rosalind exercises.\n",
    "\n"
   ]
  },
  {
   "cell_type": "markdown",
   "id": "2fdad8af-e472-4e39-9bb1-0ef5a2823ddc",
   "metadata": {},
   "source": [
    "One powerful function of biopython is its ability to read file formats of biological data. Let's try and read in a single fasta sequene from the file \"myFavouriteProtein_ncbi.fasta\""
   ]
  },
  {
   "cell_type": "code",
   "execution_count": 2,
   "id": "afdf8a1d-5356-41f6-ba9e-d9f25b748840",
   "metadata": {},
   "outputs": [
    {
     "name": "stdout",
     "output_type": "stream",
     "text": [
      "<module 'Bio.SeqIO' from '/usr/local/Caskroom/miniconda/base/envs/pythoncourse2021/lib/python3.9/site-packages/Bio/SeqIO/__init__.py'>\n"
     ]
    }
   ],
   "source": [
    "from Bio import SeqIO\n",
    "\n",
    "# Here, we call the module SeqIO, let's see what it is\n",
    "SeqIO\n",
    "print(SeqIO)"
   ]
  },
  {
   "cell_type": "markdown",
   "id": "58dfedb3-65a8-4466-85b0-3953caaa08a9",
   "metadata": {},
   "source": [
    "### Reading a single fasta-formatting sequence \n",
    "\n",
    "Reminder, fasta files look like this :"
   ]
  },
  {
   "cell_type": "raw",
   "id": "5a75f643-1cf0-4636-b072-7b2a83fd6065",
   "metadata": {},
   "source": [
    ">Wrapped_seq\n",
    "GGGAAAGGAAGGGGAAAAAAAAATTTTAAAGGAATTAAAGGAATGGAATTTAAAGGAGGAAATTTAAAAGAAAGAAGGGAATTGGTAAGGAAAGGAAAGGAA\n",
    "\n",
    ">MultiLine_seq\n",
    "GGGAATTTGGGGAAATTTAAAAGAAAGAAGGGAATTTGGGGAAATTTAAAAGAAAGAA\n",
    "GGAATTTAAAGGAGGAAATTTAAAAGAAAGAAGGGAATTGGTAAGGAAAGGAAAGGAA"
   ]
  },
  {
   "cell_type": "code",
   "execution_count": 4,
   "id": "6ddb8602-1db7-44a2-ab07-75f16d6dd4c8",
   "metadata": {},
   "outputs": [
    {
     "name": "stdout",
     "output_type": "stream",
     "text": [
      "ID: AKA62179.1\n",
      "Name: AKA62179.1\n",
      "Description: AKA62179.1 putative rhodoquinone biosynthesis methyltransferase-like protein RQUA [Pygsuia biforma]\n",
      "Number of features: 0\n",
      "Seq('MNSLRITSLQRCCSIGFRQFSSLRNTFGCRSFLHSSKFFHSTTVRGNDKEELPE...RIA')\n"
     ]
    }
   ],
   "source": [
    "# myFastaRecord is a single fasta record from the file \n",
    "# myFastaRecord IS NOT a string\n",
    "# myFastaRecord IS NOT a list\n",
    "# myFastaRecord is a Biopython Object = SeqRecord\n",
    "myFastaRecord = SeqIO.read(\"myFavouriteProtein_ncbi.fasta\", \"fasta\")\n",
    "\n",
    "# what does it look like?\n",
    "print(myFastaRecord)"
   ]
  },
  {
   "cell_type": "code",
   "execution_count": 5,
   "id": "dbac18a8-6e92-4bbe-a9ce-aee2a04f3b0b",
   "metadata": {},
   "outputs": [
    {
     "data": {
      "text/plain": [
       "SeqRecord(seq=Seq('MNSLRITSLQRCCSIGFRQFSSLRNTFGCRSFLHSSKFFHSTTVRGNDKEELPE...RIA'), id='AKA62179.1', name='AKA62179.1', description='AKA62179.1 putative rhodoquinone biosynthesis methyltransferase-like protein RQUA [Pygsuia biforma]', dbxrefs=[])"
      ]
     },
     "execution_count": 5,
     "metadata": {},
     "output_type": "execute_result"
    }
   ],
   "source": [
    "# Let's call (not print) myFastaRecord\n",
    "myFastaRecord"
   ]
  },
  {
   "cell_type": "markdown",
   "id": "1db7288f-a7e0-4745-a67b-9abd3fc05d6f",
   "metadata": {},
   "source": [
    "Above, we can see that there is some 'SeqRecord' object that lists all the elements encoded in the object.  You can access all of these elements by typing the string myFastaRecord.XXX "
   ]
  },
  {
   "cell_type": "code",
   "execution_count": 14,
   "id": "3af56202-3f9e-47e1-9ae2-c94469c9b183",
   "metadata": {},
   "outputs": [
    {
     "data": {
      "text/plain": [
       "Seq('MNSLRITSLQRCCSIGFRQFSSLRNTFGCRSFLHSSKFFHSTTVRGNDKEELPE...RIA')"
      ]
     },
     "execution_count": 14,
     "metadata": {},
     "output_type": "execute_result"
    }
   ],
   "source": [
    "# this is the sequence as a biopython object\n",
    "myFastaRecord.seq"
   ]
  },
  {
   "cell_type": "code",
   "execution_count": 17,
   "id": "f4d32d88-3201-4502-9203-e4306c1abcaf",
   "metadata": {},
   "outputs": [
    {
     "name": "stdout",
     "output_type": "stream",
     "text": [
      "MNSLRITSLQRCCSIGFRQFSSLRNTFGCRSFLHSSKFFHSTTVRGNDKEELPEYMANTYHWAYVNPRNVALLDNNFVVNTILFGNYIRIQNFALSEIKQGDQVFMPASVYGSACRNIAKAVGEAGRLDIIDISPIQVVRNTRKLSRYPQVTVLRGDARSFDLQAAYDVACSFMLLHEIPDENKSSVVNNVLNSVKVGGKAVFIDYGRPSTLHPVRPILSFVNDWLEPWAKTLWAHPISSFAAPESQDHFVWETERTIFGGVYQKVVAHRIA\n"
     ]
    }
   ],
   "source": [
    "# this is the sequence as a biopython object\n",
    "print(myFastaRecord.seq)"
   ]
  },
  {
   "cell_type": "code",
   "execution_count": 18,
   "id": "890f1ef2-2db8-4494-ae6f-92275cf64757",
   "metadata": {},
   "outputs": [
    {
     "data": {
      "text/plain": [
       "272"
      ]
     },
     "execution_count": 18,
     "metadata": {},
     "output_type": "execute_result"
    }
   ],
   "source": [
    "# you can query the length of the biopython object using len()\n",
    "len(myFastaRecord.seq)"
   ]
  },
  {
   "cell_type": "code",
   "execution_count": null,
   "id": "c8f5f2b3-0960-43d7-bd68-d019f08c143b",
   "metadata": {},
   "outputs": [],
   "source": [
    "# In this box try to query another element of myFastaRecord. \n",
    "# call myFastaRecord to see you option (press play)\n",
    "# or try tabbing with a 'myFastaRecord.'\n",
    "myFastaRecord"
   ]
  },
  {
   "cell_type": "markdown",
   "id": "9d395e28-df20-4b43-a0b2-5e7084949d17",
   "metadata": {},
   "source": [
    "Let's try and get some information out of the description.  Write a conditional statement asking whether there is a string 'protein' in the description of the sequence.  "
   ]
  },
  {
   "cell_type": "code",
   "execution_count": null,
   "id": "8b711df2-79c9-4013-ac2e-82516cc1584c",
   "metadata": {},
   "outputs": [],
   "source": [
    "# Does this protein description have the word 'protein'?"
   ]
  },
  {
   "cell_type": "code",
   "execution_count": 21,
   "id": "fe3e702e-3d05-482d-af9e-561bf1c59b73",
   "metadata": {},
   "outputs": [],
   "source": [
    "# What is the accession number (=id) of this protein? \n",
    "# store the accession number in a variable "
   ]
  },
  {
   "cell_type": "markdown",
   "id": "72b2492b-0bbc-4366-a1bf-d1bfd0ea6b45",
   "metadata": {},
   "source": [
    "## Parsing a file with more than one sequence\n",
    "\n",
    "To parse a larger file, it is best to read through the file sequence by sequence and store the information you are interested in. We can do this using the SeqIO.parse()"
   ]
  },
  {
   "cell_type": "code",
   "execution_count": 24,
   "id": "32289cb3-5ea4-4ec4-af36-e68e4c7809f1",
   "metadata": {},
   "outputs": [
    {
     "data": {
      "text/plain": [
       "'<Bio.SeqIO.FastaIO.FastaIterator object at 0x7fb6ca4905e0>'"
      ]
     },
     "execution_count": 25,
     "metadata": {},
     "output_type": "execute_result"
    }
   ],
   "source": [
    "SeqIO.parse(\"NFU1_proteins.fasta\", \"fasta\")"
   ]
  },
  {
   "cell_type": "markdown",
   "id": "0dbc02d9-0d1e-45a7-8920-47323b955137",
   "metadata": {},
   "source": [
    "Here it says that this object is a 'Fasta Iterator' this gives you a hint that whatever is stored in this object is iterable - that is, you can iterate over it. Just like you would iterate over a list, dictionary or string. "
   ]
  },
  {
   "cell_type": "code",
   "execution_count": 28,
   "id": "d14fc787-e793-4b61-808e-7df0ba616235",
   "metadata": {},
   "outputs": [],
   "source": [
    "for record in SeqIO.parse(\"NFU1_proteins.fasta\", \"fasta\"):\n",
    "    # do something \n",
    "    pass   # pass does nothing"
   ]
  },
  {
   "cell_type": "code",
   "execution_count": 38,
   "id": "a8f3aa57-f887-4b06-900f-e0ab49acf60c",
   "metadata": {},
   "outputs": [
    {
     "name": "stdout",
     "output_type": "stream",
     "text": [
      "ID: Q9UMS0.2\n",
      "Name: Q9UMS0.2\n",
      "Description: Q9UMS0.2 RecName: Full=NFU1 iron-sulfur cluster scaffold homolog, mitochondrial; AltName: Full=HIRA-interacting protein 5; Flags: Precursor [Homo sapiens]\n",
      "Number of features: 0\n",
      "Seq('MAATARRGWGAAAVAAGLRRRFCHMLKNPYTIKKQPLHQFVQRPLFPLPAAFYH...NSP')\n",
      "ID: Q9QZ23.2\n",
      "Name: Q9QZ23.2\n",
      "Description: Q9QZ23.2 RecName: Full=NFU1 iron-sulfur cluster scaffold homolog, mitochondrial; AltName: Full=HIRA-interacting protein 5; Short=mHIRIP5; Flags: Precursor [Mus musculus]\n",
      "Number of features: 0\n",
      "Seq('MAAAERAWGAAVGVVRLCRRFCHVATPHTFKKQPLHQYVRRPLFPLRAPLCNTV...NSS')\n",
      "ID: B4M375.1\n",
      "Name: B4M375.1\n",
      "Description: B4M375.1 RecName: Full=NFU1 iron-sulfur cluster scaffold homolog, mitochondrial; Flags: Precursor [Drosophila virilis]\n",
      "Number of features: 0\n",
      "Seq('MSKLISYAAKNTLRNTRLGANPICQHATRDYMHLAAASAARNTYSTPAVGFAKQ...TPN')\n"
     ]
    }
   ],
   "source": [
    "# let's print just the first 3 records to the screen.\n",
    "# hint: we can use 'break' to stop the for loop if \n",
    "# we need to\n",
    "\n",
    "counter = 0\n",
    "for record in list(SeqIO.parse(\"NFU1_proteins.fasta\", \"fasta\")):\n",
    "    counter +=1\n",
    "    if counter <= 3 :\n",
    "        print(record)\n",
    "    else:\n",
    "        break\n",
    "\n",
    "    #print(record[0])"
   ]
  },
  {
   "cell_type": "code",
   "execution_count": 51,
   "id": "e9e7f04c-f57a-4d83-881a-5263c2c10288",
   "metadata": {},
   "outputs": [
    {
     "data": {
      "text/plain": [
       "[SeqRecord(seq=Seq('MSKLISYAAKNTLRNTRLGANPICQHATRDYMHLAAASAARNTYSTPAVGFAKQ...TPN'), id='B4M375.1', name='B4M375.1', description='B4M375.1 RecName: Full=NFU1 iron-sulfur cluster scaffold homolog, mitochondrial; Flags: Precursor [Drosophila virilis]', dbxrefs=[]),\n",
       " SeqRecord(seq=Seq('MSKLLTNTALSTFRSTRFAARQLSRNFGGIASTAQPVNLKAGYGLDYKKGLLQT...GTN'), id='B3MRT7.1', name='B3MRT7.1', description='B3MRT7.1 RecName: Full=NFU1 iron-sulfur cluster scaffold homolog, mitochondrial; Flags: Precursor [Drosophila ananassae]', dbxrefs=[]),\n",
       " SeqRecord(seq=Seq('MSKLISYAAKSPLRNIRLGATQIICQHASTDCMHMAASASASSSARKTYSTLAV...TQN'), id='B4JWR9.1', name='B4JWR9.1', description='B4JWR9.1 RecName: Full=NFU1 iron-sulfur cluster scaffold homolog, mitochondrial; Flags: Precursor [Drosophila grimshawi]', dbxrefs=[]),\n",
       " SeqRecord(seq=Seq('MSKLLSYTARIILRNSRITVRQLVRGFAGFVSGQRNAPQPAYGRPVPGLLRQKM...GPN'), id='B4H303.1', name='B4H303.1', description='B4H303.1 RecName: Full=NFU1 iron-sulfur cluster scaffold homolog, mitochondrial; Flags: Precursor [Drosophila persimilis]', dbxrefs=[]),\n",
       " SeqRecord(seq=Seq('MSKLLSYTARIILRNSRTTVRQLGQEGVRGFAGFVSGQRNAPQPAYGRPVPGLL...GPN'), id='B5DKJ8.1', name='B5DKJ8.1', description='B5DKJ8.1 RecName: Full=NFU1 iron-sulfur cluster scaffold homolog, mitochondrial; Flags: Precursor [Drosophila pseudoobscura pseudoobscura]', dbxrefs=[]),\n",
       " SeqRecord(seq=Seq('MAKLISYAKGGFLRNTRLTSRAVPQVYQHATSSRGFVHLTSSVAQSSAIHVSTP...PAN'), id='B4NE93.1', name='B4NE93.1', description='B4NE93.1 RecName: Full=NFU1 iron-sulfur cluster scaffold homolog, mitochondrial; Flags: Precursor [Drosophila willistoni]', dbxrefs=[]),\n",
       " SeqRecord(seq=Seq('MSKFLSQAALNTLRNTRLGSRQLVRSFAGIASTRNHSEPARQEEVYGQARGRSL...GPQ'), id='B4PZ52.1', name='B4PZ52.1', description='B4PZ52.1 RecName: Full=NFU1 iron-sulfur cluster scaffold homolog, mitochondrial; Flags: Precursor [Drosophila yakuba]', dbxrefs=[]),\n",
       " SeqRecord(seq=Seq('MSKFLSQAALNTLRNTRLGSRQLVRSFKGISNTRNHRIPAHQESGCGHSVGCGL...GPH'), id='Q8SY96.1', name='Q8SY96.1', description='Q8SY96.1 RecName: Full=NFU1 iron-sulfur cluster scaffold homolog, mitochondrial; Flags: Precursor [Drosophila melanogaster]', dbxrefs=[]),\n",
       " SeqRecord(seq=Seq('MSKFLSQAAINTLRNTRLGSRQLVRSFAGISNTRNHREAGHQEWGCGQSAGRGL...GPH'), id='B4IMF6.1', name='B4IMF6.1', description='B4IMF6.1 RecName: Full=NFU1 iron-sulfur cluster scaffold homolog, mitochondrial; Flags: Precursor [Drosophila sechellia]', dbxrefs=[]),\n",
       " SeqRecord(seq=Seq('MSKFLSQAALNTLRNTRLGSRQLVRSFAGIASTRNHREPAHQEPGCGQALGRGL...GPH'), id='B3NYF7.1', name='B3NYF7.1', description='B3NYF7.1 RecName: Full=NFU1 iron-sulfur cluster scaffold homolog, mitochondrial; Flags: Precursor [Drosophila erecta]', dbxrefs=[]),\n",
       " SeqRecord(seq=Seq('MSKFLSQAAINTLRNTRLGSRQLVRSFAGISNTRNHRGAGHQEWGCGQSAERGL...GPH'), id='B4R3T1.1', name='B4R3T1.1', description='B4R3T1.1 RecName: Full=NFU1 iron-sulfur cluster scaffold homolog, mitochondrial; Flags: Precursor [Drosophila simulans]', dbxrefs=[])]"
      ]
     },
     "execution_count": 51,
     "metadata": {},
     "output_type": "execute_result"
    }
   ],
   "source": [
    "# Find all the records with 'Drosophila' in the description\n",
    "# print them to screen AND store their record object in a dictionary \n",
    "# myFlies \n",
    "\n",
    "myFlies = []\n",
    "\n",
    "for record in list(SeqIO.parse(\"NFU1_proteins.fasta\", \"fasta\")):\n",
    "    description = record.description\n"
   ]
  },
  {
   "cell_type": "markdown",
   "id": "8ae1078d-18a6-409c-bea7-12800e223548",
   "metadata": {},
   "source": [
    "let's try and perform some actions on the myFlies records  "
   ]
  },
  {
   "cell_type": "code",
   "execution_count": 60,
   "id": "ea32ee03-2da8-4868-95a7-a49397fded05",
   "metadata": {},
   "outputs": [
    {
     "name": "stdout",
     "output_type": "stream",
     "text": [
      "This sequence is 298 amino acids long\n",
      "This sequence is 286 amino acids long\n",
      "This sequence is 298 amino acids long\n",
      "This sequence is 282 amino acids long\n",
      "This sequence is 286 amino acids long\n",
      "This sequence is 289 amino acids long\n",
      "This sequence is 283 amino acids long\n",
      "This sequence is 283 amino acids long\n",
      "This sequence is 283 amino acids long\n",
      "This sequence is 283 amino acids long\n",
      "This sequence is 283 amino acids long\n"
     ]
    }
   ],
   "source": [
    "# Note, this record variable is UNRELATED to our variables above.  \n",
    "for record in myFlies:\n",
    "    \n",
    "    print(\"This sequence is %i amino acids long\" %len(record.seq))"
   ]
  },
  {
   "cell_type": "code",
   "execution_count": 62,
   "id": "aa202668-80ed-405a-a454-c607e3f2cff4",
   "metadata": {},
   "outputs": [
    {
     "name": "stdout",
     "output_type": "stream",
     "text": [
      "This sequence has 24 Alanines\n",
      "This sequence has 21 Alanines\n",
      "This sequence has 22 Alanines\n",
      "This sequence has 17 Alanines\n",
      "This sequence has 16 Alanines\n",
      "This sequence has 20 Alanines\n",
      "This sequence has 17 Alanines\n",
      "This sequence has 13 Alanines\n",
      "This sequence has 16 Alanines\n",
      "This sequence has 18 Alanines\n",
      "This sequence has 16 Alanines\n"
     ]
    }
   ],
   "source": [
    "# Let's count the number of Alanines in each sequence from myFlies\n",
    "# print 'this sequence has XX Alanines'\n",
    "for record in myFlies:\n",
    "    sequence = record.seq\n"
   ]
  },
  {
   "cell_type": "markdown",
   "id": "f3348ca5-f76f-4445-aa7a-915aba9b37e0",
   "metadata": {},
   "source": [
    "Read all the records again (i started it for you)\n",
    "this time, add the records that have an odd number \n",
    "of amino acids in their sequence lengths to a list. write this list to a file using SeqIO.write\n",
    "\n",
    "Recommended: \n",
    "\n",
    " - Make a function 'odd_num' like we did before that returns 'True' if a number is odd. \n",
    " - read your fasta file (I started it for you below)\n",
    " - make a variable that will store your sequence\n",
    " - calculate the length of that variable \n",
    " - check if that variable is odd\n",
    " - append this variable to a list\n",
    " - outside of your for loop, write the odd-list to file . \n",
    "\n",
    "\n"
   ]
  },
  {
   "cell_type": "code",
   "execution_count": 67,
   "id": "addd9113-4215-44d6-ac1d-5cb9a45dc7f8",
   "metadata": {},
   "outputs": [
    {
     "name": "stdout",
     "output_type": "stream",
     "text": [
      "12.204724409448819\n",
      "12.941176470588236\n",
      "15.771812080536913\n",
      "16.433566433566433\n",
      "16.44295302013423\n",
      "17.02127659574468\n",
      "17.482517482517483\n",
      "17.301038062283737\n",
      "16.607773851590107\n",
      "18.021201413427562\n",
      "17.6678445229682\n",
      "16.607773851590107\n",
      "18.021201413427562\n",
      "24.02826855123675\n",
      "23.272727272727273\n",
      "16.53846153846154\n",
      "14.453125\n",
      "16.8141592920354\n",
      "21.1864406779661\n",
      "14.893617021276595\n",
      "13.392857142857142\n",
      "22.51082251082251\n",
      "16.216216216216218\n",
      "18.0\n",
      "18.333333333333332\n",
      "13.541666666666666\n",
      "16.097560975609756\n",
      "13.917525773195877\n",
      "14.43298969072165\n",
      "16.580310880829014\n",
      "16.666666666666668\n",
      "17.52577319587629\n",
      "15.609756097560975\n",
      "15.492957746478874\n",
      "17.08542713567839\n",
      "14.136125654450261\n",
      "18.09045226130653\n",
      "18.75\n",
      "16.582914572864322\n",
      "17.08542713567839\n",
      "18.592964824120603\n",
      "15.18324607329843\n",
      "16.666666666666668\n"
     ]
    }
   ],
   "source": [
    "for record in list(SeqIO.parse(\"NFU1_proteins.fasta\", \"fasta\")):\n",
    "\n",
    "    pass\n",
    "\n",
    "#SeqIO.write( ??? , \"myOddSequences.fasta\",\"fasta\")"
   ]
  },
  {
   "cell_type": "markdown",
   "id": "4e9e3e54-933e-4f66-8a72-c56629a968ed",
   "metadata": {},
   "source": [
    "## Rosalind\n",
    "\n",
    "Try to solve the following problems with Biopython."
   ]
  },
  {
   "cell_type": "code",
   "execution_count": null,
   "id": "6ccf9432-af1e-48fb-9e0f-eb29b2d6d14c",
   "metadata": {},
   "outputs": [],
   "source": [
    "# http://rosalind.info/problems/gc/\n",
    "# GC content\n",
    "\n",
    "# hint, try from Bio.SeqUtils import GC\n"
   ]
  },
  {
   "cell_type": "code",
   "execution_count": null,
   "id": "31659a38-e6cc-40b1-9ccf-15443c9e2ee5",
   "metadata": {},
   "outputs": [],
   "source": [
    "# http://rosalind.info/problems/prtm/\n",
    "# Mass of a protein\n",
    "\n",
    "# hint: make a dictionary of the table\n",
    "#"
   ]
  },
  {
   "cell_type": "code",
   "execution_count": null,
   "id": "7860a310-6ffa-43ff-bbc8-2a5de0e8ae10",
   "metadata": {},
   "outputs": [],
   "source": [
    "# http://rosalind.info/problems/orf/\n",
    "# Finding all possible ORFs"
   ]
  },
  {
   "cell_type": "code",
   "execution_count": null,
   "id": "49702d7c-586e-4a36-8d4f-573548eba819",
   "metadata": {},
   "outputs": [],
   "source": [
    "# http://rosalind.info/problems/splc/\n",
    "# Splice splice baby. "
   ]
  },
  {
   "cell_type": "code",
   "execution_count": null,
   "id": "d187cd4d-bbce-44b0-8acb-c421e4b8b5e6",
   "metadata": {},
   "outputs": [],
   "source": [
    "# http://rosalind.info/problems/revp/\n",
    "# Palindromania\n",
    "\n",
    "# hint: don't write out every possible palindrome. \n",
    "# this one looks fun!"
   ]
  }
 ],
 "metadata": {
  "kernelspec": {
   "display_name": "Python 3 (ipykernel)",
   "language": "python",
   "name": "python3"
  },
  "language_info": {
   "codemirror_mode": {
    "name": "ipython",
    "version": 3
   },
   "file_extension": ".py",
   "mimetype": "text/x-python",
   "name": "python",
   "nbconvert_exporter": "python",
   "pygments_lexer": "ipython3",
   "version": "3.9.7"
  }
 },
 "nbformat": 4,
 "nbformat_minor": 5
}
