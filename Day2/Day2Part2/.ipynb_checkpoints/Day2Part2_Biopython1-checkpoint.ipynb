{
 "cells": [
  {
   "cell_type": "markdown",
   "id": "83b613fc-30c1-4bfb-af79-5dc46812ef1d",
   "metadata": {},
   "source": [
    "# **Day 2 - Part 2** \n",
    "\n",
    "## Learning objectives\n",
    "\n",
    "- Solve problems using python core\n",
    "- Introduction to biopython\n",
    "- Build a fasta file parser using biopython\n",
    "\n"
   ]
  },
  {
   "cell_type": "markdown",
   "id": "8df83589-4d04-44c8-aa2c-3a1324fb43b3",
   "metadata": {},
   "source": [
    "### Section 01 - Analyzing biological data with python core\n",
    "---\n",
    "\n",
    "We are going to start playing with actual biological data. \n",
    "\n",
    "Let's reverse complement a DNA sequence. Hint, you can reverse strings using \"[::-1]\" or .reverse()"
   ]
  },
  {
   "cell_type": "code",
   "execution_count": 4,
   "id": "1807b073-17bc-4295-99c5-6e5eb8fcf247",
   "metadata": {},
   "outputs": [
    {
     "name": "stdout",
     "output_type": "stream",
     "text": [
      "ctgggcaact\n"
     ]
    }
   ],
   "source": [
    "myDNA = \"agttgcccag\"\n",
    "RC_dict = {\"a\":\"t\",\"t\":\"a\",\"c\":\"g\",\"g\":\"c\"}\n",
    "myDNA_RC =\"\"\n",
    "for base in myDNA:\n",
    "    myDNA_RC += RC_dict[base]\n",
    "\n",
    "print(myDNA_RC[::-1])"
   ]
  },
  {
   "cell_type": "markdown",
   "id": "230c6997-ec06-4068-be80-bb7b3c00b0c0",
   "metadata": {},
   "source": [
    "Work on the following problems:"
   ]
  },
  {
   "cell_type": "code",
   "execution_count": null,
   "id": "8c806f0f-3945-4d29-a62a-590da005bb92",
   "metadata": {},
   "outputs": [],
   "source": [
    "# http://rosalind.info/problems/dna/\n",
    "# Counting DNA Nucleotides\n"
   ]
  },
  {
   "cell_type": "code",
   "execution_count": null,
   "id": "ebfe177f-65ea-444c-b3f5-ce4b6418d03d",
   "metadata": {},
   "outputs": [],
   "source": [
    "seq = open('rosalind_dna.txt', 'r')\n",
    "seq = seq.read()\n",
    "\n",
    "countA = 0\n",
    "countC = 0\n",
    "countG = 0\n",
    "countT = 0\n",
    "\n",
    "for n in seq:\n",
    "    if n == 'A':\n",
    "        countA += 1\n",
    "    if n == 'C':\n",
    "        countC += 1\n",
    "    if n == 'G':\n",
    "        countG += 1\n",
    "    if n == 'T':\n",
    "        countT += 1\n",
    "\n",
    "print str(countA) + ' ' + str(countC) + ' ' + str(countG) + ' ' + str(countT)"
   ]
  },
  {
   "cell_type": "code",
   "execution_count": null,
   "id": "2536aabe-18ae-44c6-9b0e-cd65a249e53c",
   "metadata": {},
   "outputs": [],
   "source": [
    "# http://rosalind.info/problems/rna/\n",
    "# Transcribing DNA into RNA\n"
   ]
  },
  {
   "cell_type": "code",
   "execution_count": null,
   "id": "987d9dde-67b8-49bb-b8f5-1e2237fff59d",
   "metadata": {},
   "outputs": [],
   "source": [
    "# http://rosalind.info/problems/revc/\n",
    "# REVERSE COMPLEMENT\n"
   ]
  },
  {
   "cell_type": "code",
   "execution_count": null,
   "id": "a8961120-3706-4953-89cf-6946e9cf962e",
   "metadata": {},
   "outputs": [],
   "source": [
    "# http://rosalind.info/problems/hamm/\n",
    "# HAMMING DISTANCE\n",
    "\n",
    "# hint, you will need to keep in mind the position in each string\n"
   ]
  },
  {
   "cell_type": "code",
   "execution_count": null,
   "id": "88061e42-8066-4c63-b84e-fc2cc500ff64",
   "metadata": {},
   "outputs": [],
   "source": [
    "# http://rosalind.info/problems/subs/\n",
    "# MOTIF FINDER\n"
   ]
  },
  {
   "cell_type": "code",
   "execution_count": null,
   "id": "8e11e888-5757-4e0c-9152-83572f4e9546",
   "metadata": {},
   "outputs": [],
   "source": [
    "for i in range(len(s)):\n",
    "    if s[i:].startswith(\"motif\"):\n",
    "        print(i+1)"
   ]
  },
  {
   "cell_type": "markdown",
   "id": "a09f48ec-1cc5-4ef5-83ce-feee6149c1dc",
   "metadata": {
    "tags": []
   },
   "source": [
    "### Section 02 - Biopython\n",
    "---\n",
    "\n",
    "When starting to code, chances are you on not the first person to try and write code to solve that problem. Some very clever biologists wrote a package called biopython that has most of the functionality one would ever need in a python program. \n",
    "\n",
    "[See the cookbook for biopython](http://biopython.org/DIST/docs/tutorial/Tutorial.html)\n",
    "\n"
   ]
  },
  {
   "cell_type": "code",
   "execution_count": 5,
   "id": "07deb7f8-c5ca-4253-8c7a-444e9a62fe73",
   "metadata": {},
   "outputs": [
    {
     "name": "stdout",
     "output_type": "stream",
     "text": [
      "/home/julieb/anaconda3/lib/python3.9/site-packages/Bio/SeqIO/__init__.py\n",
      "ctgggcaact\n"
     ]
    }
   ],
   "source": [
    "# Check the installation and path\n",
    "from Bio import SeqIO\n",
    "print(SeqIO.__file__)\n",
    "\n",
    "# For example\n",
    "from Bio.Seq import Seq\n",
    "\n",
    "# we can convert a string into a sequence object using Seq()\n",
    "myDNA = Seq(\"agttgcccag\")\n",
    "\n",
    "# Use the function 'reverse_complement()'\n",
    "print (myDNA.reverse_complement())"
   ]
  },
  {
   "cell_type": "code",
   "execution_count": null,
   "id": "9afef14a-b6fd-45ba-b4ec-f15db3f30b64",
   "metadata": {},
   "outputs": [],
   "source": [
    "# Repeat this exercise using a biopython function: Hint 'transcribe'\n",
    "\n",
    "# http://rosalind.info/problems/rna/\n",
    "# Transcribing DNA into RNA\n",
    "\n"
   ]
  },
  {
   "cell_type": "markdown",
   "id": "d814aa76-1626-4d42-bee4-7299b36dc074",
   "metadata": {},
   "source": [
    "To convert between DNA and RNA we can use the `transcribe()` function and to convert between DNA/RNA and amino acids we can use the `translate()` function:"
   ]
  },
  {
   "cell_type": "code",
   "execution_count": null,
   "id": "aae8aad0-9318-4a59-b2a7-ec7b3a4edca7",
   "metadata": {},
   "outputs": [],
   "source": [
    "myDNA = Seq(\"agtcaatcccaacgggagccccag\")\n",
    "\n",
    "\n",
    "myRNA = myDNA.transcribe()\n",
    "myProtein = myDNA.translate()\n",
    "\n",
    "print(myRNA)\n",
    "print(myProtein)"
   ]
  },
  {
   "cell_type": "code",
   "execution_count": null,
   "id": "1b9df20a-6f55-40f4-82ba-3f0b42d3cb93",
   "metadata": {},
   "outputs": [],
   "source": [
    "# http://rosalind.info/problems/prot/\n",
    "# TRANSLATE\n",
    "\n"
   ]
  },
  {
   "cell_type": "markdown",
   "id": "3a916c2b-90f8-4d3a-9a2c-e9b73e16445d",
   "metadata": {},
   "source": [
    "### Reading fasta files - Python Core\n",
    "\n",
    "One of the most common methods to store DNA and protein information is in FASTA files. The consist of two main elements: \n",
    "\n",
    "- the title of the sequence (also called header) preceded by a '>'\n",
    "- the sequence\n"
   ]
  },
  {
   "cell_type": "raw",
   "id": "d1f492c1-fc32-49ed-a271-236b4a428ec3",
   "metadata": {},
   "source": [
    ">Wrapped_seq\n",
    "GGGAAAGGAAGGGGAAAAAAAAATTTTAAAGGAATTAAAGGAATGGAATTTAAAGGAGGAAATTTAAAAGAAAGAAGGGAATTGGTAAGGAAAGGAAAGGAA\n",
    "\n",
    ">MultiLine_seq\n",
    "GGGAATTTGGGGAAATTTAAAAGAAAGAAGGGAATTTGGGGAAATTTAAAAGAAAGAA\n",
    "GGAATTTAAAGGAGGAAATTTAAAAGAAAGAAGGGAATTGGTAAGGAAAGGAAAGGAA"
   ]
  },
  {
   "cell_type": "markdown",
   "id": "1c650d63-b087-4db5-80c9-62ffe2c57324",
   "metadata": {},
   "source": [
    "Notice how the the sequence can be wrapped or multiple lines? This can be frustrating whey trying to read fasta files using the core python functions.  "
   ]
  },
  {
   "cell_type": "code",
   "execution_count": 23,
   "id": "884b713c-6308-4c5b-8bed-9e563ba2eb7e",
   "metadata": {},
   "outputs": [
    {
     "name": "stdout",
     "output_type": "stream",
     "text": [
      ">Q9UMS0.2 RecName: Full=NFU1 iron-sulfur cluster scaffold homolog, mitochondrial; AltName: Full=HIRA-interacting protein 5; Flags: Precursor [Homo sapiens]\n",
      "\n",
      "MAATARRGWGAAAVAAGLRRRFCHMLKNPYTIKKQPLHQFVQRPLFPLPAAFYHPVRYMFIQTQDTPNPNSLKFIPGKPV\n",
      "\n",
      "LETRTMDFPTPAAAFRSPLARQLFRIEGVKSVFFGPDFITVTKENEELDWNLLKPDIYATIMDFFASGLPLVTEETPSGE\n",
      "\n",
      "AGSEEDDEVVAMIKELLDTRIRPTVQEDGGDVIYKGFEDGIVQLKLQGSCTSCPSSIITLKNGIQNMLQFYIPEVEGVEQ\n",
      "\n",
      "VMDDESDEKEANSP\n",
      "\n",
      "{'>Q9UMS0.2 RecName: Full=NFU1 iron-sulfur cluster scaffold homolog, mitochondrial; AltName: Full=HIRA-interacting protein 5; Flags: Precursor [Homo sapiens]': 'VMDDESDEKEANSP'}\n"
     ]
    }
   ],
   "source": [
    "# Let's try and make a dictionary storing \n",
    "# the sequence title as a key and the sequence as the value\n",
    "seqDict={}\n",
    "myLines = open(\"MyFastaLines.txt\").readlines()\n",
    "\n",
    "for line in myLines:\n",
    "    # you can see there are /n characters? these are 'end-of-line characters'\n",
    "    print(line)  \n",
    "    # we can remove these using '.strip()' function\n",
    "    l = line.strip()\n",
    "    # print(line)\n",
    "    \n",
    "    if  l.startswith(\">\"):\n",
    "        #Easy, if the line starts with a > then it must be the header\n",
    "        titleline= l\n",
    "        seqDict[titleline]=\"\"\n",
    "    else:\n",
    "        # The next line must be part of the sequence\n",
    "        seqDict[titleline]= l\n",
    "        \n",
    "# does this look right?\n",
    "print(seqDict)\n",
    "\n",
    "# How you could fix this code? "
   ]
  },
  {
   "cell_type": "code",
   "execution_count": null,
   "id": "a8f5a084-3750-4e62-9898-d62a584c3f58",
   "metadata": {},
   "outputs": [],
   "source": [
    "# seqDict[titleline]+= l\n"
   ]
  },
  {
   "cell_type": "markdown",
   "id": "7ead6fa1-edb3-41de-b8f4-a0fccd4006f7",
   "metadata": {},
   "source": [
    "### Writing fasta files - Python Core\n",
    "\n",
    "You can create a fasta file using python core from variables of your choosing. "
   ]
  },
  {
   "cell_type": "code",
   "execution_count": 3,
   "id": "0510dd31-05ec-45a8-8fc3-73732837dafd",
   "metadata": {},
   "outputs": [],
   "source": [
    "seqDict = {\"seq1\":\"AGTCGTA\", \"seq2\":\"GTCACTGC\"}\n",
    "\n",
    "#one way\n",
    "with open(\"myoutputSeq.fasta\",\"w\") as output:\n",
    "    for seq in seqDict:\n",
    "        output.write(\">\" + seq + \"\\n\" + seqDict[seq] + \"\\n\")\n",
    "        \n",
    "#another way using % operator\n",
    "with open(\"myoutputSeq.fasta\",\"w\") as output:\n",
    "    for seq in seqDict:\n",
    "        # %s operator is read as a placeholder for the strings in the parentheses \n",
    "        # after the string\n",
    "        output.write(\">%s\\n%s\\n\" % (seq, seqDict[seq]))\n"
   ]
  },
  {
   "cell_type": "markdown",
   "id": "b0001565-8188-46cf-9b23-b4f73914e004",
   "metadata": {},
   "source": [
    "### Biopython and Fasta files \n",
    "\n",
    "Of course, there is a much easier way to read and write fasta files using biopython using the `SeqIO` module. "
   ]
  },
  {
   "cell_type": "code",
   "execution_count": 5,
   "id": "dd10ed6b-0f38-4be5-8957-bb89da4e104d",
   "metadata": {},
   "outputs": [
    {
     "data": {
      "text/plain": [
       "43"
      ]
     },
     "execution_count": 5,
     "metadata": {},
     "output_type": "execute_result"
    }
   ],
   "source": [
    "from Bio import SeqIO\n",
    "\n",
    "# SeqIO.read takes two arguments, the file and the format of the file\n",
    "# you can use 'read' when you file has one sequence\n",
    "record = SeqIO.read(\"myFavouriteProtein_ncbi.fasta\", 'fasta')\n",
    "\n",
    "#Here is some information available in the 'record' object\n",
    "header = record.description\n",
    "id = record.id\n",
    "sequence = record.seq\n",
    "\n",
    "# You can write this record to another file\n",
    "SeqIO.write(record, \"myFavouriteProtein_ncbi_copy.fasta\", \"fasta\")\n",
    "\n",
    "# You can read a file with more than one sequence using  SeqIO.parse()\n",
    "outputList = []\n",
    "for record in SeqIO.parse(\"NFU1_proteins.fasta\", 'fasta'):\n",
    "    header = record.description\n",
    "    id = record.id\n",
    "    sequence = record\n",
    "    outputList.append(record)\n",
    "    # however, to write more than one sequence to a file using SeqIO, \n",
    "    # you have to save the record objects in a list and write them later\n",
    "   \n",
    "SeqIO.write(outputList, \"NFU1_proteins_copy.fasta\", \"fasta\")"
   ]
  },
  {
   "cell_type": "code",
   "execution_count": 6,
   "id": "1516dacf-9bfd-455a-894f-f6cfc7c8f265",
   "metadata": {},
   "outputs": [],
   "source": [
    "# HAND IN #5\n",
    "\n",
    "# Write a fasta parser for the fastafile 'NFU1_proteins.fasta'\n",
    "# Use this parser to indicate how many sequences are in the file\n",
    "\n",
    "# make a file with the longest sequence called 'NFU1_longestSeq.fasta'\n",
    "\n",
    "# save the lengths of all the proteins as a list 'seq_lengths'\n",
    "\n"
   ]
  },
  {
   "cell_type": "markdown",
   "id": "1a1a3ec6-1537-4bae-b17d-241cbb30428e",
   "metadata": {},
   "source": [
    "# End of Day 2"
   ]
  },
  {
   "cell_type": "markdown",
   "id": "b033b3cf-30ed-4ed5-a5ea-88a3e12f67d2",
   "metadata": {},
   "source": [
    "## Section 10 - e-utilities \n",
    "---\n",
    "\n",
    "You can access the NCBI databases using e-utilities. There is a standalone version of e-utilities you can use from the command line, but there are also ways to exectue e-utilities from within python. See section 9.6 in the biopython cookbook. \n",
    "\n",
    "Here, we will import e-utilities 'Entrez' module from the Bio package. You should put in your email address to tell them who you are. We first have to generate a search term and tell the program which database we would like to access.  This search strategy is often called a 'handle'. Here, we are querying the protein database (db=\"protein\") for the accession number AKA62179, (id=\"AKA62179\") and we would like to retrieve this in genbank format (rettype=gb) as text (retmode=text).  "
   ]
  },
  {
   "cell_type": "code",
   "execution_count": 24,
   "id": "bda652cc-c4da-45ff-ba08-7369da0d1918",
   "metadata": {},
   "outputs": [],
   "source": [
    "from Bio import SeqIO\n",
    "from Bio import Entrez\n",
    "Entrez.email = \"A.N.Other@example.com\"  # tell NCBI who you are \n",
    "handle = Entrez.efetch(db=\"protein\", id=\"AKA62179\", rettype=\"gb\", retmode=\"text\")"
   ]
  },
  {
   "cell_type": "markdown",
   "id": "d1e7d383-41a0-4fbe-b9ec-5216bb2a54e6",
   "metadata": {},
   "source": [
    "This 'handle' can be read by read function within the SeqIO module (we used this above for reading fasta files). Just like before, we should tell .read() what the format of the input object is. In this case, it is in genbank format. Now, all the information from genbank for the AKA62179 sequence is stored in `record`. "
   ]
  },
  {
   "cell_type": "code",
   "execution_count": 25,
   "id": "0d363a5e-04fc-4c96-99b3-2bbb19b62a1f",
   "metadata": {},
   "outputs": [
    {
     "name": "stdout",
     "output_type": "stream",
     "text": [
      "AKA62179.1\n",
      "putative rhodoquinone biosynthesis methyltransferase-like protein RQUA [Pygsuia biforma]\n",
      "MNSLRITSLQRCCSIGFRQFSSLRNTFGCRSFLHSSKFFHSTTVRGNDKEELPEYMANTYHWAYVNPRNVALLDNNFVVNTILFGNYIRIQNFALSEIKQGDQVFMPASVYGSACRNIAKAVGEAGRLDIIDISPIQVVRNTRKLSRYPQVTVLRGDARSFDLQAAYDVACSFMLLHEIPDENKSSVVNNVLNSVKVGGKAVFIDYGRPSTLHPVRPILSFVNDWLEPWAKTLWAHPISSFAAPESQDHFVWETERTIFGGVYQKVVAHRIA\n"
     ]
    }
   ],
   "source": [
    "record = SeqIO.read(handle, \"genbank\")\n",
    "\n",
    "# As before, this sequence record has attributes associated with it such as \n",
    "# .id, .description, .seq\n",
    "print(record.id)\n",
    "print(record.description)\n",
    "print(record.seq)"
   ]
  },
  {
   "cell_type": "markdown",
   "id": "d9a0eddc-006f-4e3d-b338-62276d24e259",
   "metadata": {},
   "source": [
    "But since we retrieved the entire record of this sequence from the internet, we can also access other information stored as a dictionary in `record.annotations`. Let's see what information is stored in the keys of the dictionary"
   ]
  },
  {
   "cell_type": "code",
   "execution_count": 30,
   "id": "4279884b-5228-48ae-b7a7-c71f8a5f6094",
   "metadata": {},
   "outputs": [
    {
     "data": {
      "text/plain": [
       "dict_keys(['topology', 'data_file_division', 'date', 'accessions', 'sequence_version', 'db_source', 'keywords', 'source', 'organism', 'taxonomy', 'references', 'structured_comment', 'molecule_type'])"
      ]
     },
     "execution_count": 30,
     "metadata": {},
     "output_type": "execute_result"
    }
   ],
   "source": [
    "record.annotations.keys()"
   ]
  },
  {
   "cell_type": "code",
   "execution_count": 34,
   "id": "2362f6ab-6e64-4b0f-a01f-0aff3cc11941",
   "metadata": {},
   "outputs": [],
   "source": [
    "## print two annotations associated with this record. \n",
    "## Remember how to work with dictionaries?\n",
    "\n"
   ]
  },
  {
   "cell_type": "code",
   "execution_count": null,
   "id": "3476679d-55fa-4ac9-b3b0-d3d2023f52ce",
   "metadata": {},
   "outputs": [],
   "source": [
    "# print(record.annotations[\"topology\"])"
   ]
  },
  {
   "cell_type": "markdown",
   "id": "fc391e11-1d12-4296-854c-3aa9ef206e09",
   "metadata": {},
   "source": [
    "Rarely will we want to retrieve only one sequence at a time. Thankfully it is possible to `efetch` multiple IDs by providing a list, here as `desired_ids`. "
   ]
  },
  {
   "cell_type": "code",
   "execution_count": null,
   "id": "f40d10bb-6714-4d2f-89c4-5afec398c861",
   "metadata": {},
   "outputs": [],
   "source": [
    "desired_ids  = [\"B4S1U9\",\"AKA62179\"]\n",
    "handle = Entrez.efetch(db=\"protein\", id=desired_ids, rettype=\"gb\", retmode=\"text\")\n"
   ]
  },
  {
   "cell_type": "markdown",
   "id": "8001b8b2-eda7-40e3-892f-57152b23ac67",
   "metadata": {},
   "source": [
    "Now the search results for all elements of the list are stored in `handle`. However, remember what we had to do when trying to read a fasta file with more than one entry? Which `SeqIO` function did we have to use?? fill in the '????' below."
   ]
  },
  {
   "cell_type": "code",
   "execution_count": null,
   "id": "46a8977b-28d4-4cc6-9b97-12a641931ed7",
   "metadata": {},
   "outputs": [],
   "source": [
    "records = SeqIO.???(handle, \"genbank\")\n",
    "\n",
    "# Like above, let's collect the record for each of these accessions in a list\n",
    "# For writing\n",
    "\n",
    "seqList = []\n",
    "\n",
    "for record in records:\n",
    "    seqList.append(record)\n",
    "    \n",
    "SeqIO.write(seqList, \"efetched_sequences.fasta\", \"fasta\")"
   ]
  },
  {
   "cell_type": "code",
   "execution_count": null,
   "id": "c2e2e0d1-880d-4a7e-aa61-51fe76a0cd0c",
   "metadata": {},
   "outputs": [],
   "source": [
    "### Hand-in #6\n",
    "\n",
    "#  the file 'accessions.txt' is a list of accession numbers\n",
    "#  With one accession number per line\n",
    "\n",
    "\n",
    "# Use efetch to produce a fasta file of these accession numbers\n",
    "\n"
   ]
  }
 ],
 "metadata": {
  "kernelspec": {
   "display_name": "Python 3 (ipykernel)",
   "language": "python",
   "name": "python3"
  },
  "language_info": {
   "codemirror_mode": {
    "name": "ipython",
    "version": 3
   },
   "file_extension": ".py",
   "mimetype": "text/x-python",
   "name": "python",
   "nbconvert_exporter": "python",
   "pygments_lexer": "ipython3",
   "version": "3.9.7"
  }
 },
 "nbformat": 4,
 "nbformat_minor": 5
}
