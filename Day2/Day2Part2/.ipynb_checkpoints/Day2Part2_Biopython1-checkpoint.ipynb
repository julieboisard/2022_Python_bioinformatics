{
 "cells": [
  {
   "cell_type": "markdown",
   "id": "83b613fc-30c1-4bfb-af79-5dc46812ef1d",
   "metadata": {},
   "source": [
    "# **Day 2 - Part 2** \n",
    "\n",
    "## Learning objectives\n",
    "\n",
    "- Solve problems using python core\n",
    "- Introduction to biopython\n",
    "\n"
   ]
  },
  {
   "cell_type": "markdown",
   "id": "8df83589-4d04-44c8-aa2c-3a1324fb43b3",
   "metadata": {},
   "source": [
    "### Section 01 - Analyzing biological data with python core\n",
    "---\n",
    "\n",
    "We are going to start playing with actual biological data. \n",
    "\n",
    "[Here](https://perso.limsi.fr/pointal/_media/python:cours:mementopython3-english.pdf) you can find a useful cheat sheet with common python core functions.\n",
    "\n",
    "\n",
    "Let's reverse complement a DNA sequence. Hint, you can reverse strings using \"[::-1]\" or .reverse()"
   ]
  },
  {
   "cell_type": "code",
   "execution_count": 5,
   "id": "1807b073-17bc-4295-99c5-6e5eb8fcf247",
   "metadata": {},
   "outputs": [
    {
     "name": "stdout",
     "output_type": "stream",
     "text": [
      "tcaacgggtc\n",
      "ctgggcaact\n"
     ]
    }
   ],
   "source": [
    "myDNA = \"agttgcccag\"\n",
    "RC_dict = {\"a\":\"t\",\"t\":\"a\",\"c\":\"g\",\"g\":\"c\"}\n",
    "myDNA_RC =\"\"\n",
    "for base in myDNA:\n",
    "    myDNA_RC += RC_dict[base]\n",
    "print(myDNA_RC)\n",
    "print(myDNA_RC[::-1])"
   ]
  },
  {
   "cell_type": "markdown",
   "id": "230c6997-ec06-4068-be80-bb7b3c00b0c0",
   "metadata": {},
   "source": [
    "Work on the following problems:"
   ]
  },
  {
   "cell_type": "markdown",
   "id": "e12b5b49-0958-438f-b16e-6341af4a052e",
   "metadata": {},
   "source": [
    "### Rosalind Problem - Complementing a Strand of DNA\n",
    "\n",
    "Go on [Rosalind](http://rosalind.info/problems/revc/) website.\n",
    "\n",
    "> In DNA strings, symbols 'A' and 'T' are complements of each other, as are 'C' and 'G'.\n",
    "\n",
    "> The reverse complement of a DNA string 's' is the string 'sc' formed by reversing the symbols of 's', then taking the complement of each symbol (e.g., the reverse complement of \"GTCA\" is \"TGAC\").\n",
    "\n",
    "> Given: A DNA string 's' of length at most 1000 bp.\n",
    "\n",
    "> Return: The reverse complement 'sc' of 's'.\n",
    "\n",
    "Try to find other ways to reverse complement a sequence (without a dictionnary)."
   ]
  },
  {
   "cell_type": "code",
   "execution_count": 9,
   "id": "c3ef1cfd-c010-4966-a4e4-65c68291620f",
   "metadata": {},
   "outputs": [
    {
     "name": "stdout",
     "output_type": "stream",
     "text": [
      "\n",
      "GGGTAACATAGGCCGCCCAGTTTTATGCGTATGGCCCTTTCAATTTGGTCATAGTCGCAGAATTCCAGTAATCAGGGCTTGTAGCGACTCCTCAGAAAAATGTCCGGAAGCACAGACTGCTAATCAAAAATGGTAGTTTACGGCATCGGCGATGCAACTGAGGATGTCAATATTGATCCTATGGCCTGGTGCCATAGACAGGTCCATACAAACTTGCTTTTACAAGGCAGGGAATGCCATGGGGCGCGGCTTCGATACAACGCCTCACAATGGTGTTAAACGATCCCTGCCGTGGAGAGACACGACGGCCGCTGCATGCAGCGCACACTTTCCCGATGTCTGATTGGACCGACTGCCACGACGGTGGACTACCTTCGTATGGATGGACTGTGCGCGGTGCAGGAGTATCCATTTCGTTAGCAAAATGCTCGTCAGCGAAAACAAAATATGGATGCCACGGCTCTCCGATACTCACGCCAATGCATCAAGAGGTCTGTAGACGCACTTTCTGCCGATGCCTGTTTCGAAGCTGCGTAACTTGTCCACAGCAAGATGCCGTAGCTATGGAGCCAGACGACGCTACTTAATCGGATGGTAAAGGCCGACCATGAAACGTTTACTAGGCTATTACAGTCCTGGTCCTAGATGGCATTAATGCCAAGAATGTGACACAGCATAAATTAACTAGTTATCTGTCCTACTTCCCCCCGAGAGGGTTGGGTGGCAGGTACACATCACCACCTCGGCAGCCCGGACCCGCACTACGCCAAATAATGAACAGAAACCCGGGCCTAGAATGTAAGCGTCTCAGTCCGTTTTGCTACATACTAGCAGATGCTTAAAGTCTTTTAGATTAC\n",
      "\n",
      "CCCATTGTATCCGGCGGGTCAAAATACGCATACCGGGAAAGTTAAACCAGTATCAGCGTCTTAAGGTCATTAGTCCCGAACATCGCTGAGGAGTCTTTTTACAGGCCTTCGTGTCTGACGATTAGTTTTTACCATCAAATGCCGTAGCCGCTACGTTGACTCCTACAGTTATAACTAGGATACCGGACCACGGTATCTGTCCAGGTATGTTTGAACGAAAATGTTCCGTCCCTTACGGTACCCCGCGCCGAAGCTATGTTGCGGAGTGTTACCACAATTTGCTAGGGACGGCACCTCTCTGTGCTGCCGGCGACGTACGTCGCGTGTGAAAGGGCTACAGACTAACCTGGCTGACGGTGCTGCCACCTGATGGAAGCATACCTACCTGACACGCGCCACGTCCTCATAGGTAAAGCAATCGTTTTACGAGCAGTCGCTTTTGTTTTATACCTACGGTGCCGAGAGGCTATGAGTGCGGTTACGTAGTTCTCCAGACATCTGCGTGAAAGACGGCTACGGACAAAGCTTCGACGCATTGAACAGGTGTCGTTCTACGGCATCGATACCTCGGTCTGCTGCGATGAATTAGCCTACCATTTCCGGCTGGTACTTTGCAAATGATCCGATAATGTCAGGACCAGGATCTACCGTAATTACGGTTCTTACACTGTGTCGTATTTAATTGATCAATAGACAGGATGAAGGGGGGCTCTCCCAACCCACCGTCCATGTGTAGTGGTGGAGCCGTCGGGCCTGGGCGTGATGCGGTTTATTACTTGTCTTTGGGCCCGGATCTTACATTCGCAGAGTCAGGCAAAACGATGTATGATCGTCTACGAATTTCAGAAAATCTAATG\n",
      "\n",
      "CCCATTGTATCCGGCGGGTCAAAATACGCATACCGGGAAAGTTAAACCAGTATCAGCGTCTTAAGGTCATTAGTCCCGAACATCGCTGAGGAGTCTTTTTACAGGCCTTCGTGTCTGACGATTAGTTTTTACCATCAAATGCCGTAGCCGCTACGTTGACTCCTACAGTTATAACTAGGATACCGGACCACGGTATCTGTCCAGGTATGTTTGAACGAAAATGTTCCGTCCCTTACGGTACCCCGCGCCGAAGCTATGTTGCGGAGTGTTACCACAATTTGCTAGGGACGGCACCTCTCTGTGCTGCCGGCGACGTACGTCGCGTGTGAAAGGGCTACAGACTAACCTGGCTGACGGTGCTGCCACCTGATGGAAGCATACCTACCTGACACGCGCCACGTCCTCATAGGTAAAGCAATCGTTTTACGAGCAGTCGCTTTTGTTTTATACCTACGGTGCCGAGAGGCTATGAGTGCGGTTACGTAGTTCTCCAGACATCTGCGTGAAAGACGGCTACGGACAAAGCTTCGACGCATTGAACAGGTGTCGTTCTACGGCATCGATACCTCGGTCTGCTGCGATGAATTAGCCTACCATTTCCGGCTGGTACTTTGCAAATGATCCGATAATGTCAGGACCAGGATCTACCGTAATTACGGTTCTTACACTGTGTCGTATTTAATTGATCAATAGACAGGATGAAGGGGGGCTCTCCCAACCCACCGTCCATGTGTAGTGGTGGAGCCGTCGGGCCTGGGCGTGATGCGGTTTATTACTTGTCTTTGGGCCCGGATCTTACATTCGCAGAGTCAGGCAAAACGATGTATGATCGTCTACGAATTTCAGAAAATCTAATG\n"
     ]
    }
   ],
   "source": [
    "## Correction\n",
    "\n",
    "#method1 using a for loop\n",
    "S = open('rosalind_revc_1_dataset.txt', 'r')\n",
    "S = S.read()\n",
    "\n",
    "revS = S[::-1]\n",
    "revS\n",
    "comp=' '\n",
    "for i in revS:\n",
    "    if i == 'A':              \n",
    "        comp+='T'             \n",
    "    elif i == 'C':            \n",
    "        comp+='G'             \n",
    "    elif i == 'T':            \n",
    "        comp+='A'             \n",
    "    elif i == 'G':            \n",
    "        comp+='C' \n",
    "print(revS)\n",
    "\n",
    "#method2 using a built-in function\n",
    "S = open('rosalind_revc_1_dataset.txt', 'r')\n",
    "S = S.read()\n",
    "\n",
    "revS = S[::-1]\n",
    "revS = revS.replace('A', 't')\n",
    "revS = revS.replace('T', 'a')\n",
    "revS = revS.replace('C', 'g')\n",
    "revS = revS.replace('G', 'c')\n",
    "revS = revS.upper()\n",
    "print(revS)\n",
    "\n",
    "#method2 simplified\n",
    "S = open('rosalind_revc_1_dataset.txt', 'r')\n",
    "S = S.read()\n",
    "\n",
    "S = S.replace('A', 't').replace('T', 'a').replace('C', 'g').replace('G', 'c').upper()[::-1]\n",
    "print(S)"
   ]
  },
  {
   "cell_type": "markdown",
   "id": "5d94a14e-9381-4d48-966f-2c933347abed",
   "metadata": {},
   "source": [
    "### Rosalind Problem - Counting DNA nucleotides\n",
    "\n",
    "Go on [Rosalind](http://rosalind.info/problems/dna/) website.\n",
    "\n",
    "> A string is simply an ordered collection of symbols selected from some alphabet and formed into a word\n",
    "\n",
    "> The length of a string is the number of symbols that it contains.\n",
    "\n",
    "> An example of a length 21 DNA string (whose alphabet contains the symbols 'A', 'C', 'G', and 'T') is \"ATGCTTCAGAAAGGTCTTACG.\"\n",
    "\n",
    "> Given: A DNA string 's' of length at most 1000 nt.\n",
    "\n",
    "> Return: Four integers (separated by spaces) counting the respective number of times that the symbols 'A', 'C', 'G', and 'T' occur in 's'.\n"
   ]
  },
  {
   "cell_type": "code",
   "execution_count": 11,
   "id": "ebfe177f-65ea-444c-b3f5-ce4b6418d03d",
   "metadata": {},
   "outputs": [
    {
     "name": "stdout",
     "output_type": "stream",
     "text": [
      "198 219 222 206\n"
     ]
    }
   ],
   "source": [
    "## Correction\n",
    "\n",
    "seq = open('rosalind_dna_1_dataset.txt', 'r')\n",
    "seq = seq.read()\n",
    "\n",
    "countA = 0\n",
    "countC = 0\n",
    "countG = 0\n",
    "countT = 0\n",
    "\n",
    "for n in seq:\n",
    "    if n == 'A':\n",
    "        countA += 1\n",
    "    if n == 'C':\n",
    "        countC += 1\n",
    "    if n == 'G':\n",
    "        countG += 1\n",
    "    if n == 'T':\n",
    "        countT += 1\n",
    "\n",
    "print(str(countA) + ' ' + str(countC) + ' ' + str(countG) + ' ' + str(countT))"
   ]
  },
  {
   "cell_type": "markdown",
   "id": "f9bf7fe4-2419-488a-8cd6-dcde39af298c",
   "metadata": {},
   "source": [
    "### Rosalind Problem - Transcribing DNA into RNA\n",
    "\n",
    "Go on [Rosalind](http://rosalind.info/problems/rna/) website.\n",
    "\n",
    "> An RNA string is a string formed from the alphabet containing 'A', 'C', 'G', and 'U'.\n",
    "\n",
    "> Given a DNA string 't' corresponding to a coding strand, its transcribed RNA string u is formed by replacing all occurrences of 'T' in t with 'U' in u\n",
    "\n",
    "> Given: A DNA string 't' having length at most 1000 nt.\n",
    "\n",
    "> Return: The transcribed RNA string of 't'"
   ]
  },
  {
   "cell_type": "code",
   "execution_count": 13,
   "id": "64473243-0487-4d18-a1c1-514b035a7dcc",
   "metadata": {},
   "outputs": [
    {
     "name": "stdout",
     "output_type": "stream",
     "text": [
      "GUGCUUAGACACUACCCUGCUGCUACGUUUGUUACGACGUGUCUAUACCUGUUAUCUAGACUUUACAAACCGAAGUAGGCCAACAUUUGCGAAAUUUAAAGUGACGAGUGCCAGACGCUAGGCUUCGUUUUUGAGAUGUCGCCUCGACCCGAUCUGUGCACAGAUACUAAGAUCUCUAUGGCCCCGAAUAGGCGACGUAUCCGCCUGAAUAAUAGCGUACAUUGCUAUUGUAGGGGGUGACAGUGCUCUGCCUACACGGGACAGCGCAAGUCCCUCAACGGAAGUAGAGACCUGGACAUAUAGGUAAUCCCCCUCUCAAUAUCAAUCCUAGCCUGCAGAAAUGUAUGACUCAAGGAUGGAUUCCCGCAUCCAGCGAAUACCAGUCACUUCAAAAAGACACAGUCAUCUCUCUCAGAGGCAUGCUUCUCUAUCAAAUGAGCCGGAUUAUCCUAGCCUAUCCGUAGUGGGAAUCAUGUCAAUCCACUUCAACCAAGACCCUUUGACCACAACGGCCCGUCAUCCCCCACGGUUAGUAAGCUCUCUCAGCUAAUCUAUGAUUUACCGCAAGAUUAUAGACGAUAGUCCAAUACUAGUAUUAAUCUGAAGGGCUACACGUGUGCCAAAGAAGGCAUGACAUAAUCGACACCUUGCCUCGUAUACCGUAGGAUUCUCCUUACACAUACCGACGGAAGCCUCUACUUAGUCAGUUACGCGGUUAAAGUAUUGGCUGCGUAGUCCUAUCGACAUCAAAUUUACGCUUUCAUGCAUGGGAUCGGACUCGAAACUUGCACCCGGCUGGUAGGGACAAAAAGCCAAUGGGAAACUGUUAAUUCCGGUUCAGGCCUCGCCCUUAAACGAUUUAAACCCUCAACGGCAUCUAUUGUCUUUCUCAUAGAAACACUUGAUCCCUGCCUAACCUAGCCAAGCUCCC\n",
      "\n"
     ]
    },
    {
     "name": "stdin",
     "output_type": "stream",
     "text": [
      " GTGCTTAGACACTACCCTGCTGCTACGTTTGTTACGACGTGTCTATACCTGTTATCTAGACTTTACAAACCGAAGTAGGCCAACATTTGCGAAATTTAAAGTGACGAGTGCCAGACGCTAGGCTTCGTTTTTGAGATGTCGCCTCGACCCGATCTGTGCACAGATACTAAGATCTCTATGGCCCCGAATAGGCGACGTATCCGCCTGAATAATAGCGTACATTGCTATTGTAGGGGGTGACAGTGCTCTGCCTACACGGGACAGCGCAAGTCCCTCAACGGAAGTAGAGACCTGGACATATAGGTAATCCCCCTCTCAATATCAATCCTAGCCTGCAGAAATGTATGACTCAAGGATGGATTCCCGCATCCAGCGAATACCAGTCACTTCAAAAAGACACAGTCATCTCTCTCAGAGGCATGCTTCTCTATCAAATGAGCCGGATTATCCTAGCCTATCCGTAGTGGGAATCATGTCAATCCACTTCAACCAAGACCCTTTGACCACAACGGCCCGTCATCCCCCACGGTTAGTAAGCTCTCTCAGCTAATCTATGATTTACCGCAAGATTATAGACGATAGTCCAATACTAGTATTAATCTGAAGGGCTACACGTGTGCCAAAGAAGGCATGACATAATCGACACCTTGCCTCGTATACCGTAGGATTCTCCTTACACATACCGACGGAAGCCTCTACTTAGTCAGTTACGCGGTTAAAGTATTGGCTGCGTAGTCCTATCGACATCAAATTTACGCTTTCATGCATGGGATCGGACTCGAAACTTGCACCCGGCTGGTAGGGACAAAAAGCCAATGGGAAACTGTTAATTCCGGTTCAGGCCTCGCCCTTAAACGATTTAAACCCTCAACGGCATCTATTGTCTTTCTCATAGAAACACTTGATCCCTGCCTAACCTAGCCAAGCTCCC\n"
     ]
    },
    {
     "name": "stdout",
     "output_type": "stream",
     "text": [
      "GUGCUUAGACACUACCCUGCUGCUACGUUUGUUACGACGUGUCUAUACCUGUUAUCUAGACUUUACAAACCGAAGUAGGCCAACAUUUGCGAAAUUUAAAGUGACGAGUGCCAGACGCUAGGCUUCGUUUUUGAGAUGUCGCCUCGACCCGAUCUGUGCACAGAUACUAAGAUCUCUAUGGCCCCGAAUAGGCGACGUAUCCGCCUGAAUAAUAGCGUACAUUGCUAUUGUAGGGGGUGACAGUGCUCUGCCUACACGGGACAGCGCAAGUCCCUCAACGGAAGUAGAGACCUGGACAUAUAGGUAAUCCCCCUCUCAAUAUCAAUCCUAGCCUGCAGAAAUGUAUGACUCAAGGAUGGAUUCCCGCAUCCAGCGAAUACCAGUCACUUCAAAAAGACACAGUCAUCUCUCUCAGAGGCAUGCUUCUCUAUCAAAUGAGCCGGAUUAUCCUAGCCUAUCCGUAGUGGGAAUCAUGUCAAUCCACUUCAACCAAGACCCUUUGACCACAACGGCCCGUCAUCCCCCACGGUUAGUAAGCUCUCUCAGCUAAUCUAUGAUUUACCGCAAGAUUAUAGACGAUAGUCCAAUACUAGUAUUAAUCUGAAGGGCUACACGUGUGCCAAAGAAGGCAUGACAUAAUCGACACCUUGCCUCGUAUACCGUAGGAUUCUCCUUACACAUACCGACGGAAGCCUCUACUUAGUCAGUUACGCGGUUAAAGUAUUGGCUGCGUAGUCCUAUCGACAUCAAAUUUACGCUUUCAUGCAUGGGAUCGGACUCGAAACUUGCACCCGGCUGGUAGGGACAAAAAGCCAAUGGGAAACUGUUAAUUCCGGUUCAGGCCUCGCCCUUAAACGAUUUAAACCCUCAACGGCAUCUAUUGUCUUUCUCAUAGAAACACUUGAUCCCUGCCUAACCUAGCCAAGCUCCC\n"
     ]
    }
   ],
   "source": [
    "## Correction\n",
    "\n",
    "#method1\n",
    "dna = open('rosalind_rna_1_dataset.txt', 'r')\n",
    "dna = dna.read()\n",
    "\n",
    "rna = dna.replace(\"T\", \"U\")\n",
    "print(rna)\n",
    "\n",
    "#method2\n",
    "dna = input()\n",
    "print(dna.replace(\"T\", \"U\"))"
   ]
  },
  {
   "cell_type": "markdown",
   "id": "0647dfa8-0f9d-4210-a46a-31657f545fde",
   "metadata": {},
   "source": [
    "### Rosalind Problem - Counting Point Mutations\n",
    "\n",
    "Go on [Rosalind](http://rosalind.info/problems/hamm/) website.\n",
    "\n",
    "> Given two strings 's' and 't' of equal length, the Hamming distance between 's' and 't', denoted dH(s,t), is the number of corresponding symbols that differ in 's' and 't'\n",
    "\n",
    "> Given: Two DNA strings 's' and 't' of equal length (not exceeding 1 kbp).\n",
    "\n",
    "> Return: The Hamming distance dH(s,t).\n",
    "\n"
   ]
  },
  {
   "cell_type": "code",
   "execution_count": 17,
   "id": "705196f7-a5b0-4cde-9627-835d45746708",
   "metadata": {},
   "outputs": [
    {
     "ename": "KeyboardInterrupt",
     "evalue": "Interrupted by user",
     "output_type": "error",
     "traceback": [
      "\u001b[0;31m---------------------------------------------------------------------------\u001b[0m",
      "\u001b[0;31mKeyboardInterrupt\u001b[0m                         Traceback (most recent call last)",
      "Input \u001b[0;32mIn [17]\u001b[0m, in \u001b[0;36m<cell line: 4>\u001b[0;34m()\u001b[0m\n\u001b[1;32m      1\u001b[0m \u001b[38;5;66;03m## Correction\u001b[39;00m\n\u001b[1;32m      2\u001b[0m \n\u001b[1;32m      3\u001b[0m \u001b[38;5;66;03m#method1 with a while loop\u001b[39;00m\n\u001b[0;32m----> 4\u001b[0m a \u001b[38;5;241m=\u001b[39m \u001b[38;5;28;43minput\u001b[39;49m\u001b[43m(\u001b[49m\u001b[43m)\u001b[49m\n\u001b[1;32m      5\u001b[0m b\u001b[38;5;241m=\u001b[39m \u001b[38;5;28minput\u001b[39m()\n\u001b[1;32m      6\u001b[0m n \u001b[38;5;241m=\u001b[39m \u001b[38;5;241m0\u001b[39m\n",
      "File \u001b[0;32m~/anaconda3/envs/PythonCourses22/lib/python3.10/site-packages/ipykernel/kernelbase.py:1177\u001b[0m, in \u001b[0;36mKernel.raw_input\u001b[0;34m(self, prompt)\u001b[0m\n\u001b[1;32m   1173\u001b[0m \u001b[38;5;28;01mif\u001b[39;00m \u001b[38;5;129;01mnot\u001b[39;00m \u001b[38;5;28mself\u001b[39m\u001b[38;5;241m.\u001b[39m_allow_stdin:\n\u001b[1;32m   1174\u001b[0m     \u001b[38;5;28;01mraise\u001b[39;00m StdinNotImplementedError(\n\u001b[1;32m   1175\u001b[0m         \u001b[38;5;124m\"\u001b[39m\u001b[38;5;124mraw_input was called, but this frontend does not support input requests.\u001b[39m\u001b[38;5;124m\"\u001b[39m\n\u001b[1;32m   1176\u001b[0m     )\n\u001b[0;32m-> 1177\u001b[0m \u001b[38;5;28;01mreturn\u001b[39;00m \u001b[38;5;28;43mself\u001b[39;49m\u001b[38;5;241;43m.\u001b[39;49m\u001b[43m_input_request\u001b[49m\u001b[43m(\u001b[49m\n\u001b[1;32m   1178\u001b[0m \u001b[43m    \u001b[49m\u001b[38;5;28;43mstr\u001b[39;49m\u001b[43m(\u001b[49m\u001b[43mprompt\u001b[49m\u001b[43m)\u001b[49m\u001b[43m,\u001b[49m\n\u001b[1;32m   1179\u001b[0m \u001b[43m    \u001b[49m\u001b[38;5;28;43mself\u001b[39;49m\u001b[38;5;241;43m.\u001b[39;49m\u001b[43m_parent_ident\u001b[49m\u001b[43m[\u001b[49m\u001b[38;5;124;43m\"\u001b[39;49m\u001b[38;5;124;43mshell\u001b[39;49m\u001b[38;5;124;43m\"\u001b[39;49m\u001b[43m]\u001b[49m\u001b[43m,\u001b[49m\n\u001b[1;32m   1180\u001b[0m \u001b[43m    \u001b[49m\u001b[38;5;28;43mself\u001b[39;49m\u001b[38;5;241;43m.\u001b[39;49m\u001b[43mget_parent\u001b[49m\u001b[43m(\u001b[49m\u001b[38;5;124;43m\"\u001b[39;49m\u001b[38;5;124;43mshell\u001b[39;49m\u001b[38;5;124;43m\"\u001b[39;49m\u001b[43m)\u001b[49m\u001b[43m,\u001b[49m\n\u001b[1;32m   1181\u001b[0m \u001b[43m    \u001b[49m\u001b[43mpassword\u001b[49m\u001b[38;5;241;43m=\u001b[39;49m\u001b[38;5;28;43;01mFalse\u001b[39;49;00m\u001b[43m,\u001b[49m\n\u001b[1;32m   1182\u001b[0m \u001b[43m\u001b[49m\u001b[43m)\u001b[49m\n",
      "File \u001b[0;32m~/anaconda3/envs/PythonCourses22/lib/python3.10/site-packages/ipykernel/kernelbase.py:1219\u001b[0m, in \u001b[0;36mKernel._input_request\u001b[0;34m(self, prompt, ident, parent, password)\u001b[0m\n\u001b[1;32m   1216\u001b[0m             \u001b[38;5;28;01mbreak\u001b[39;00m\n\u001b[1;32m   1217\u001b[0m \u001b[38;5;28;01mexcept\u001b[39;00m \u001b[38;5;167;01mKeyboardInterrupt\u001b[39;00m:\n\u001b[1;32m   1218\u001b[0m     \u001b[38;5;66;03m# re-raise KeyboardInterrupt, to truncate traceback\u001b[39;00m\n\u001b[0;32m-> 1219\u001b[0m     \u001b[38;5;28;01mraise\u001b[39;00m \u001b[38;5;167;01mKeyboardInterrupt\u001b[39;00m(\u001b[38;5;124m\"\u001b[39m\u001b[38;5;124mInterrupted by user\u001b[39m\u001b[38;5;124m\"\u001b[39m) \u001b[38;5;28;01mfrom\u001b[39;00m \u001b[38;5;28mNone\u001b[39m\n\u001b[1;32m   1220\u001b[0m \u001b[38;5;28;01mexcept\u001b[39;00m \u001b[38;5;167;01mException\u001b[39;00m:\n\u001b[1;32m   1221\u001b[0m     \u001b[38;5;28mself\u001b[39m\u001b[38;5;241m.\u001b[39mlog\u001b[38;5;241m.\u001b[39mwarning(\u001b[38;5;124m\"\u001b[39m\u001b[38;5;124mInvalid Message:\u001b[39m\u001b[38;5;124m\"\u001b[39m, exc_info\u001b[38;5;241m=\u001b[39m\u001b[38;5;28;01mTrue\u001b[39;00m)\n",
      "\u001b[0;31mKeyboardInterrupt\u001b[0m: Interrupted by user"
     ]
    }
   ],
   "source": [
    "## Correction\n",
    "\n",
    "#method1 with a while loop\n",
    "a = input()\n",
    "b= input()\n",
    "n = 0\n",
    "hamming = 0\n",
    "while n <= len(a)-1:\n",
    "    if a[n] != b[n]:\n",
    "        hamming += 1\n",
    "    n += 1\n",
    "    \n",
    "print(hamming)\n",
    "\n",
    "#method2 with a function\n",
    "def hamming(a, b):\n",
    "    return len(list(filter(lambda pair: pair[0]!=pair[1], zip(a,b))))\n",
    "\n",
    "hamming(a,b) "
   ]
  },
  {
   "cell_type": "markdown",
   "id": "a8078d01-c3b9-4d7b-abff-56bd8a6348f2",
   "metadata": {},
   "source": [
    "### Rosalind Problem - Finding a Motif in DNA\n",
    "\n",
    "Go on [Rosalind](http://rosalind.info/problems/subs/) website.\n",
    "\n",
    "> Given two strings 's' and 't', 't' is a substring of 's' if 't' is contained as a contiguous collection of symbols in 's' (as a result, t must be no longer than s).\n",
    "\n",
    "> The position of a symbol in a string is the total number of symbols found to its left, including itself (e.g., the positions of all occurrences of 'U' in \"AUGCUUCAGAAAGGUCUUACG\" are 2, 5, 6, 15, 17, and 18). \n",
    "\n",
    "> The symbol at position i of 's' is denoted by s[i]\n",
    "\n",
    "> A substring of s can be represented as s[j:k], where j and k represent the starting and ending positions of the substring in s; \n",
    "\n",
    "> for example, if s = \"AUGCUUCAGAAAGGUCUUACG\", then s[2:5] = \"UGCU\".\n",
    "\n",
    "> The location of a substring s[j:k] is its beginning position j; note that t will have multiple locations in 's' if it occurs more than once as a substring of 's' \n",
    "\n",
    "> Given: Two DNA strings 's' and 't' (each of length at most 1 kbp).\n",
    "\n",
    "> Return: All locations of 't' as a substring of 's'."
   ]
  },
  {
   "cell_type": "code",
   "execution_count": 38,
   "id": "8e11e888-5757-4e0c-9152-83572f4e9546",
   "metadata": {},
   "outputs": [
    {
     "name": "stdout",
     "output_type": "stream",
     "text": [
      "TTCTTATTCCGAGCTTATTCCCTTCCTTATTCAGTTGTAGCTTATTCAGCACTTATTCCTGCTTATTCAACTTATTCCTTATTCCTTATTCGCAACTTATTCAGCTTATTCTCTTATTCTGCCTTATTCCGAGAAGCCCTTATTCGAAGACAGCTTATTCGGCTCTTATTCCCTTATTCCCTTTGAGAACTTATTCCTTATTCTACCTTATTCACTTATTCCGGAAGCACTTATTCGTCGCTTATCCTTGCTTATTCCTTATTCCTTATTCCTTATTCACCCTTATTCACCTGCTTATTCGCTTATTCCTTATTCCACTTATTCCTTCTCTGTGCTTATTCGGCTTATTCGCTTATTCTCTTTGTCCGTAAACTTATTCTCTTATTCGAGGCCTTATTCGTATTCCTTATTCTCTTATTCCACCTTATTCCTTATTCCTTATTCGAACAAATCCTTATTCGCTTATTCGCTTATTCGCCTTGGCCACTTATTCGAGCGACTTATTCTGATAACGTTGCGAGTCTTATTCCAGTCGTACTTATTCGGCTTATTCAGTCTTATTCCTTATTCCGCTTATTCCAAGCTTATTCCGCTTATTCAGCATCTTATTCGCCTTATTCTCTTATTCAGATCCAACTTATTCTACTTATTCCCTTATTCCTTATTCCTTATTCGACCTTATTCCTTATTCACGCTTATTCTCTTATTCCCTTATTCGCTTATTCTCAGCAACTCTTATTCCCTTATTCGCGCTTATTCCATGCCCTTATTCGGCTTATTCTCCTTATTCATCCTTATTCCCCGCTTATTCTAAGCGAGGCTTATTCCTTATTC\n",
      "CTTATTCCT\n",
      "52\n",
      "71\n",
      "78\n",
      "190\n",
      "251\n",
      "258\n",
      "265\n",
      "302\n",
      "318\n",
      "424\n",
      "431\n",
      "557\n",
      "654\n",
      "661\n",
      "678\n",
      "821\n",
      "[52, 71, 78, 190, 251, 258, 265, 302, 318, 424, 431, 557, 654, 661, 678, 821]\n"
     ]
    }
   ],
   "source": [
    "## Correction\n",
    "s1,s2 = open('rosalind_subs_1_dataset.txt').read().split()\n",
    "print(s1)\n",
    "print(s2)\n",
    "\n",
    "loc = []\n",
    "for i in range(len(s1)):\n",
    "    if s1[i:].startswith(s2):\n",
    "        print(i+1)\n",
    "        loc.append(i+1)\n",
    "\n",
    "print(loc)\n",
    "        \n"
   ]
  },
  {
   "cell_type": "markdown",
   "id": "a09f48ec-1cc5-4ef5-83ce-feee6149c1dc",
   "metadata": {
    "tags": []
   },
   "source": [
    "### Section 02 - Biopython\n",
    "---\n",
    "\n",
    "When starting to code, chances are you on not the first person to try and write code to solve that problem. Some very clever biologists wrote a package called biopython that has most of the functionality one would ever need in a python program. \n",
    "\n",
    "[See the cookbook for biopython](http://biopython.org/DIST/docs/tutorial/Tutorial.html)\n",
    "\n"
   ]
  },
  {
   "cell_type": "code",
   "execution_count": 3,
   "id": "07deb7f8-c5ca-4253-8c7a-444e9a62fe73",
   "metadata": {},
   "outputs": [
    {
     "name": "stdout",
     "output_type": "stream",
     "text": [
      "/home/julieb/anaconda3/lib/python3.9/site-packages/Bio/SeqIO/__init__.py\n"
     ]
    }
   ],
   "source": [
    "# Check the installation and path\n",
    "from Bio import SeqIO\n",
    "print(SeqIO.__file__)\n",
    "\n",
    "# if biopython not installed\n",
    "# pip install biopython\n",
    "# if no pip\n",
    "# python -m ensurepip --upgrade"
   ]
  },
  {
   "cell_type": "code",
   "execution_count": 4,
   "id": "9954241f-9431-481a-902a-7a7961eef311",
   "metadata": {},
   "outputs": [
    {
     "name": "stdout",
     "output_type": "stream",
     "text": [
      "ctgggcaact\n"
     ]
    }
   ],
   "source": [
    "# For example\n",
    "from Bio.Seq import Seq\n",
    "\n",
    "# we can convert a string into a sequence object using Seq()\n",
    "myDNA = Seq(\"agttgcccag\")\n",
    "\n",
    "# Use the function 'reverse_complement()'\n",
    "print (myDNA.reverse_complement())"
   ]
  },
  {
   "cell_type": "code",
   "execution_count": null,
   "id": "9afef14a-b6fd-45ba-b4ec-f15db3f30b64",
   "metadata": {},
   "outputs": [],
   "source": [
    "# Repeat this exercise using a biopython function: Hint 'transcribe'\n",
    "\n",
    "# http://rosalind.info/problems/rna/\n",
    "# Transcribing DNA into RNA\n",
    "\n"
   ]
  },
  {
   "cell_type": "markdown",
   "id": "d814aa76-1626-4d42-bee4-7299b36dc074",
   "metadata": {},
   "source": [
    "To convert between DNA and RNA we can use the `transcribe()` function and to convert between DNA/RNA and amino acids we can use the `translate()` function:"
   ]
  },
  {
   "cell_type": "code",
   "execution_count": 5,
   "id": "aae8aad0-9318-4a59-b2a7-ec7b3a4edca7",
   "metadata": {},
   "outputs": [
    {
     "name": "stdout",
     "output_type": "stream",
     "text": [
      "agucaaucccaacgggagccccag\n",
      "SQSQREPQ\n"
     ]
    }
   ],
   "source": [
    "myDNA = Seq(\"agtcaatcccaacgggagccccag\")\n",
    "\n",
    "\n",
    "myRNA = myDNA.transcribe()\n",
    "myProtein = myDNA.translate()\n",
    "\n",
    "print(myRNA)\n",
    "print(myProtein)"
   ]
  },
  {
   "cell_type": "code",
   "execution_count": null,
   "id": "1b9df20a-6f55-40f4-82ba-3f0b42d3cb93",
   "metadata": {},
   "outputs": [],
   "source": [
    "# http://rosalind.info/problems/prot/\n",
    "# TRANSLATE\n",
    "\n"
   ]
  },
  {
   "cell_type": "markdown",
   "id": "3a916c2b-90f8-4d3a-9a2c-e9b73e16445d",
   "metadata": {},
   "source": [
    "### Reading fasta files - Python Core\n",
    "\n",
    "One of the most common methods to store DNA and protein information is in FASTA files. The consist of two main elements: \n",
    "\n",
    "- the title of the sequence (also called header) preceded by a '>'\n",
    "- the sequence\n"
   ]
  },
  {
   "cell_type": "raw",
   "id": "d1f492c1-fc32-49ed-a271-236b4a428ec3",
   "metadata": {},
   "source": [
    ">Wrapped_seq\n",
    "GGGAAAGGAAGGGGAAAAAAAAATTTTAAAGGAATTAAAGGAATGGAATTTAAAGGAGGAAATTTAAAAGAAAGAAGGGAATTGGTAAGGAAAGGAAAGGAA\n",
    "\n",
    ">MultiLine_seq\n",
    "GGGAATTTGGGGAAATTTAAAAGAAAGAAGGGAATTTGGGGAAATTTAAAAGAAAGAA\n",
    "GGAATTTAAAGGAGGAAATTTAAAAGAAAGAAGGGAATTGGTAAGGAAAGGAAAGGAA"
   ]
  },
  {
   "cell_type": "markdown",
   "id": "1c650d63-b087-4db5-80c9-62ffe2c57324",
   "metadata": {},
   "source": [
    "Notice how the the sequence can be wrapped or multiple lines? This can be frustrating whey trying to read fasta files using the core python functions.  "
   ]
  },
  {
   "cell_type": "code",
   "execution_count": 11,
   "id": "884b713c-6308-4c5b-8bed-9e563ba2eb7e",
   "metadata": {},
   "outputs": [
    {
     "name": "stdout",
     "output_type": "stream",
     "text": [
      ">Q9UMS0.2 RecName: Full=NFU1 iron-sulfur cluster scaffold homolog, mitochondrial; AltName: Full=HIRA-interacting protein 5; Flags: Precursor [Homo sapiens]\n",
      "\n",
      "MAATARRGWGAAAVAAGLRRRFCHMLKNPYTIKKQPLHQFVQRPLFPLPAAFYHPVRYMFIQTQDTPNPNSLKFIPGKPV\n",
      "\n",
      "LETRTMDFPTPAAAFRSPLARQLFRIEGVKSVFFGPDFITVTKENEELDWNLLKPDIYATIMDFFASGLPLVTEETPSGE\n",
      "\n",
      "AGSEEDDEVVAMIKELLDTRIRPTVQEDGGDVIYKGFEDGIVQLKLQGSCTSCPSSIITLKNGIQNMLQFYIPEVEGVEQ\n",
      "\n",
      "VMDDESDEKEANSP\n",
      "\n",
      "{'>Q9UMS0.2 RecName: Full=NFU1 iron-sulfur cluster scaffold homolog, mitochondrial; AltName: Full=HIRA-interacting protein 5; Flags: Precursor [Homo sapiens]': 'VMDDESDEKEANSP'}\n"
     ]
    }
   ],
   "source": [
    "# Let's try and make a dictionary storing \n",
    "# the sequence title as a key and the sequence as the value\n",
    "seqDict={}\n",
    "myLines = open(\"MyFastaLines.txt\").readlines()\n",
    "\n",
    "for line in myLines:\n",
    "    # you can see there are /n characters? these are 'end-of-line characters'\n",
    "    print(line)  \n",
    "    # we can remove these using '.strip()' function\n",
    "    l = line.strip()\n",
    "    # print(line)\n",
    "    \n",
    "    if  l.startswith(\">\"):\n",
    "        #Easy, if the line starts with a > then it must be the header\n",
    "        titleline= l\n",
    "        seqDict[titleline]=\"\"\n",
    "    else:\n",
    "        # The next line must be part of the sequence\n",
    "        seqDict[titleline]= l\n",
    "        \n",
    "# does this look right?\n",
    "print(seqDict)\n",
    "\n",
    "# How you could fix this code? "
   ]
  },
  {
   "cell_type": "code",
   "execution_count": null,
   "id": "a8f5a084-3750-4e62-9898-d62a584c3f58",
   "metadata": {},
   "outputs": [],
   "source": [
    "# seqDict[titleline]+= l\n"
   ]
  },
  {
   "cell_type": "markdown",
   "id": "7ead6fa1-edb3-41de-b8f4-a0fccd4006f7",
   "metadata": {},
   "source": [
    "### Writing fasta files - Python Core\n",
    "\n",
    "You can create a fasta file using python core from variables of your choosing. "
   ]
  },
  {
   "cell_type": "code",
   "execution_count": 12,
   "id": "0510dd31-05ec-45a8-8fc3-73732837dafd",
   "metadata": {},
   "outputs": [],
   "source": [
    "seqDict = {\"seq1\":\"AGTCGTA\", \"seq2\":\"GTCACTGC\"}\n",
    "\n",
    "#one way\n",
    "with open(\"myoutputSeq.fasta\",\"w\") as output:\n",
    "    for seq in seqDict:\n",
    "        output.write(\">\" + seq + \"\\n\" + seqDict[seq] + \"\\n\")\n",
    "        \n",
    "#another way using % operator\n",
    "with open(\"myoutputSeq.fasta\",\"w\") as output:\n",
    "    for seq in seqDict:\n",
    "        # %s operator is read as a placeholder for the strings in the parentheses \n",
    "        # after the string\n",
    "        output.write(\">%s\\n%s\\n\" % (seq, seqDict[seq]))\n"
   ]
  },
  {
   "cell_type": "markdown",
   "id": "b0001565-8188-46cf-9b23-b4f73914e004",
   "metadata": {},
   "source": [
    "### Biopython and Fasta files \n",
    "\n",
    "Of course, there is a much easier way to read and write fasta files using biopython using the `SeqIO` module. "
   ]
  },
  {
   "cell_type": "code",
   "execution_count": 15,
   "id": "dd10ed6b-0f38-4be5-8957-bb89da4e104d",
   "metadata": {},
   "outputs": [
    {
     "data": {
      "text/plain": [
       "43"
      ]
     },
     "execution_count": 15,
     "metadata": {},
     "output_type": "execute_result"
    }
   ],
   "source": [
    "from Bio import SeqIO\n",
    "\n",
    "# SeqIO.read takes two arguments, the file and the format of the file\n",
    "# you can use 'read' when you file has one sequence\n",
    "record = SeqIO.read(\"myFavouriteProtein_ncbi.fasta\", 'fasta')\n",
    "\n",
    "#Here is some information available in the 'record' object\n",
    "header = record.description\n",
    "id = record.id\n",
    "sequence = record.seq\n",
    "\n",
    "# You can write this record to another file\n",
    "SeqIO.write(record, \"myFavouriteProtein_ncbi_copy.fasta\", \"fasta\")\n",
    "\n",
    "# You can read a file with more than one sequence using  SeqIO.parse()\n",
    "outputList = []\n",
    "for record in SeqIO.parse(\"NFU1_proteins.fasta\", 'fasta'):\n",
    "    header = record.description\n",
    "    id = record.id\n",
    "    sequence = record\n",
    "    outputList.append(record)\n",
    "    # however, to write more than one sequence to a file using SeqIO, \n",
    "    # you have to save the record objects in a list and write them later\n",
    "   \n",
    "SeqIO.write(outputList, \"NFU1_proteins_copy.fasta\", \"fasta\")"
   ]
  },
  {
   "cell_type": "code",
   "execution_count": 6,
   "id": "1516dacf-9bfd-455a-894f-f6cfc7c8f265",
   "metadata": {},
   "outputs": [],
   "source": [
    "# HAND IN #5\n",
    "\n",
    "# Write a fasta parser for the fastafile 'NFU1_proteins.fasta'\n",
    "# Use this parser to indicate how many sequences are in the file\n",
    "\n",
    "# make a file with the longest sequence called 'NFU1_longestSeq.fasta'\n",
    "\n",
    "# save the lengths of all the proteins as a list 'seq_lengths'\n",
    "\n"
   ]
  }
 ],
 "metadata": {
  "kernelspec": {
   "display_name": "Python 3 (ipykernel)",
   "language": "python",
   "name": "python3"
  },
  "language_info": {
   "codemirror_mode": {
    "name": "ipython",
    "version": 3
   },
   "file_extension": ".py",
   "mimetype": "text/x-python",
   "name": "python",
   "nbconvert_exporter": "python",
   "pygments_lexer": "ipython3",
   "version": "3.10.5"
  }
 },
 "nbformat": 4,
 "nbformat_minor": 5
}
