{
 "cells": [
  {
   "cell_type": "markdown",
   "id": "83b613fc-30c1-4bfb-af79-5dc46812ef1d",
   "metadata": {},
   "source": [
    "# **Day 2 - Part 2** \n",
    "\n",
    "## Learning objectives\n",
    "\n",
    "- Solve problems using python core\n",
    "- Introduction to biopython\n",
    "\n"
   ]
  },
  {
   "cell_type": "markdown",
   "id": "8df83589-4d04-44c8-aa2c-3a1324fb43b3",
   "metadata": {},
   "source": [
    "### Section 01 - Analyzing biological data with python core\n",
    "---\n",
    "\n",
    "We are going to start playing with actual biological data. \n",
    "\n",
    "[Here](https://perso.limsi.fr/pointal/_media/python:cours:mementopython3-english.pdf) you can find a useful cheat sheet with common python core functions.\n",
    "\n",
    "\n",
    "Let's reverse complement a DNA sequence. Hint, you can reverse strings using \"[::-1]\" or .reverse()"
   ]
  },
  {
   "cell_type": "code",
   "execution_count": 2,
   "id": "1807b073-17bc-4295-99c5-6e5eb8fcf247",
   "metadata": {},
   "outputs": [
    {
     "name": "stdout",
     "output_type": "stream",
     "text": [
      "tcaacgggtc\n",
      "ctgggcaact\n"
     ]
    }
   ],
   "source": [
    "myDNA = \"agttgcccag\"\n",
    "RC_dict = {\"a\":\"t\",\"t\":\"a\",\"c\":\"g\",\"g\":\"c\"}\n",
    "myDNA_RC =\"\"\n",
    "for base in myDNA:\n",
    "    myDNA_RC += RC_dict[base]\n",
    "print(myDNA_RC)\n",
    "print(myDNA_RC[::-1])"
   ]
  },
  {
   "cell_type": "markdown",
   "id": "230c6997-ec06-4068-be80-bb7b3c00b0c0",
   "metadata": {},
   "source": [
    "Work on the following problems:"
   ]
  },
  {
   "cell_type": "code",
   "execution_count": null,
   "id": "987d9dde-67b8-49bb-b8f5-1e2237fff59d",
   "metadata": {},
   "outputs": [],
   "source": [
    "# http://rosalind.info/problems/revc/\n",
    "# REVERSE COMPLEMENT\n",
    "# Try to find other ways to reverse complement a sequence (without a dictionnary)"
   ]
  },
  {
   "cell_type": "code",
   "execution_count": null,
   "id": "c3ef1cfd-c010-4966-a4e4-65c68291620f",
   "metadata": {},
   "outputs": [],
   "source": [
    "#method1 using a for loop\n",
    "\n",
    "S = input()\n",
    "revS = S[::-1]\n",
    "revS\n",
    "comp=' '\n",
    "for i in revS:\n",
    "    if i == 'A':              \n",
    "        comp+='T'             \n",
    "    elif i == 'C':            \n",
    "        comp+='G'             \n",
    "    elif i == 'T':            \n",
    "        comp+='A'             \n",
    "    elif i == 'G':            \n",
    "        comp+='C' \n",
    "print(revS)\n",
    "\n",
    "#method2 using a built-in function\n",
    "S = input()\n",
    "revS = S[::-1]\n",
    "revS = revS.replace('A', 't')\n",
    "revS = revS.replace('T', 'a')\n",
    "revS = revS.replace('C', 'g')\n",
    "revS = revS.replace('G', 'c')\n",
    "revS = revS.upper()\n",
    "revS\n",
    "\n",
    "#method2 simplified\n",
    "S = input()\n",
    "S = S.replace('A', 't').replace('T', 'a').replace('C', 'g').replace('G', 'c').upper()[::-1]\n",
    "print S"
   ]
  },
  {
   "cell_type": "code",
   "execution_count": null,
   "id": "8c806f0f-3945-4d29-a62a-590da005bb92",
   "metadata": {},
   "outputs": [],
   "source": [
    "# http://rosalind.info/problems/dna/\n",
    "# Counting DNA Nucleotides\n"
   ]
  },
  {
   "cell_type": "code",
   "execution_count": null,
   "id": "ebfe177f-65ea-444c-b3f5-ce4b6418d03d",
   "metadata": {},
   "outputs": [],
   "source": [
    "seq = open('rosalind_dna.txt', 'r')\n",
    "seq = seq.read()\n",
    "\n",
    "countA = 0\n",
    "countC = 0\n",
    "countG = 0\n",
    "countT = 0\n",
    "\n",
    "for n in seq:\n",
    "    if n == 'A':\n",
    "        countA += 1\n",
    "    if n == 'C':\n",
    "        countC += 1\n",
    "    if n == 'G':\n",
    "        countG += 1\n",
    "    if n == 'T':\n",
    "        countT += 1\n",
    "\n",
    "print str(countA) + ' ' + str(countC) + ' ' + str(countG) + ' ' + str(countT)"
   ]
  },
  {
   "cell_type": "code",
   "execution_count": null,
   "id": "2536aabe-18ae-44c6-9b0e-cd65a249e53c",
   "metadata": {},
   "outputs": [],
   "source": [
    "# http://rosalind.info/problems/rna/\n",
    "# Transcribing DNA into RNA\n"
   ]
  },
  {
   "cell_type": "code",
   "execution_count": null,
   "id": "64473243-0487-4d18-a1c1-514b035a7dcc",
   "metadata": {},
   "outputs": [],
   "source": [
    "#method1\n",
    "dna = \"GATGGAACTTGACTACGTAAATT\"\n",
    "rna = dna.replace(\"T\", \"U\")\n",
    "print(rna)\n",
    "\n",
    "#method2\n",
    "s = input()\n",
    "print(s.replace(\"T\", \"U\"))"
   ]
  },
  {
   "cell_type": "code",
   "execution_count": null,
   "id": "a8961120-3706-4953-89cf-6946e9cf962e",
   "metadata": {},
   "outputs": [],
   "source": [
    "# http://rosalind.info/problems/hamm/\n",
    "# HAMMING DISTANCE\n",
    "\n",
    "# hint, you will need to keep in mind the position in each string\n"
   ]
  },
  {
   "cell_type": "code",
   "execution_count": null,
   "id": "705196f7-a5b0-4cde-9627-835d45746708",
   "metadata": {},
   "outputs": [],
   "source": [
    "#method1 with a while loop\n",
    "a = input()\n",
    "b= input()\n",
    "n = 0\n",
    "hamming = 0\n",
    "while n <= len(a)-1:\n",
    "    if a[n] != b[n]:\n",
    "        hamming += 1\n",
    "    n += 1\n",
    "    \n",
    "print(hamming)\n",
    "\n",
    "#method2 with a function\n",
    "def hamming(a, b):\n",
    "    return len(list(filter(lambda pair: pair[0]!=pair[1], zip(a,b))))"
   ]
  },
  {
   "cell_type": "code",
   "execution_count": null,
   "id": "88061e42-8066-4c63-b84e-fc2cc500ff64",
   "metadata": {},
   "outputs": [],
   "source": [
    "# http://rosalind.info/problems/subs/\n",
    "# MOTIF FINDER\n"
   ]
  },
  {
   "cell_type": "code",
   "execution_count": null,
   "id": "8e11e888-5757-4e0c-9152-83572f4e9546",
   "metadata": {},
   "outputs": [],
   "source": [
    "for i in range(len(s)):\n",
    "    if s[i:].startswith(\"motif\"):\n",
    "        print(i+1)"
   ]
  },
  {
   "cell_type": "markdown",
   "id": "a09f48ec-1cc5-4ef5-83ce-feee6149c1dc",
   "metadata": {
    "tags": []
   },
   "source": [
    "### Section 02 - Biopython\n",
    "---\n",
    "\n",
    "When starting to code, chances are you on not the first person to try and write code to solve that problem. Some very clever biologists wrote a package called biopython that has most of the functionality one would ever need in a python program. \n",
    "\n",
    "[See the cookbook for biopython](http://biopython.org/DIST/docs/tutorial/Tutorial.html)\n",
    "\n"
   ]
  },
  {
   "cell_type": "code",
   "execution_count": 3,
   "id": "07deb7f8-c5ca-4253-8c7a-444e9a62fe73",
   "metadata": {},
   "outputs": [
    {
     "name": "stdout",
     "output_type": "stream",
     "text": [
      "/home/julieb/anaconda3/lib/python3.9/site-packages/Bio/SeqIO/__init__.py\n"
     ]
    }
   ],
   "source": [
    "# Check the installation and path\n",
    "from Bio import SeqIO\n",
    "print(SeqIO.__file__)\n",
    "\n",
    "# if biopython not installed\n",
    "# pip install biopython\n",
    "# if no pip\n",
    "# python -m ensurepip --upgrade"
   ]
  },
  {
   "cell_type": "code",
   "execution_count": 4,
   "id": "9954241f-9431-481a-902a-7a7961eef311",
   "metadata": {},
   "outputs": [
    {
     "name": "stdout",
     "output_type": "stream",
     "text": [
      "ctgggcaact\n"
     ]
    }
   ],
   "source": [
    "# For example\n",
    "from Bio.Seq import Seq\n",
    "\n",
    "# we can convert a string into a sequence object using Seq()\n",
    "myDNA = Seq(\"agttgcccag\")\n",
    "\n",
    "# Use the function 'reverse_complement()'\n",
    "print (myDNA.reverse_complement())"
   ]
  },
  {
   "cell_type": "code",
   "execution_count": null,
   "id": "9afef14a-b6fd-45ba-b4ec-f15db3f30b64",
   "metadata": {},
   "outputs": [],
   "source": [
    "# Repeat this exercise using a biopython function: Hint 'transcribe'\n",
    "\n",
    "# http://rosalind.info/problems/rna/\n",
    "# Transcribing DNA into RNA\n",
    "\n"
   ]
  },
  {
   "cell_type": "markdown",
   "id": "d814aa76-1626-4d42-bee4-7299b36dc074",
   "metadata": {},
   "source": [
    "To convert between DNA and RNA we can use the `transcribe()` function and to convert between DNA/RNA and amino acids we can use the `translate()` function:"
   ]
  },
  {
   "cell_type": "code",
   "execution_count": 5,
   "id": "aae8aad0-9318-4a59-b2a7-ec7b3a4edca7",
   "metadata": {},
   "outputs": [
    {
     "name": "stdout",
     "output_type": "stream",
     "text": [
      "agucaaucccaacgggagccccag\n",
      "SQSQREPQ\n"
     ]
    }
   ],
   "source": [
    "myDNA = Seq(\"agtcaatcccaacgggagccccag\")\n",
    "\n",
    "\n",
    "myRNA = myDNA.transcribe()\n",
    "myProtein = myDNA.translate()\n",
    "\n",
    "print(myRNA)\n",
    "print(myProtein)"
   ]
  },
  {
   "cell_type": "code",
   "execution_count": null,
   "id": "1b9df20a-6f55-40f4-82ba-3f0b42d3cb93",
   "metadata": {},
   "outputs": [],
   "source": [
    "# http://rosalind.info/problems/prot/\n",
    "# TRANSLATE\n",
    "\n"
   ]
  },
  {
   "cell_type": "markdown",
   "id": "3a916c2b-90f8-4d3a-9a2c-e9b73e16445d",
   "metadata": {},
   "source": [
    "### Reading fasta files - Python Core\n",
    "\n",
    "One of the most common methods to store DNA and protein information is in FASTA files. The consist of two main elements: \n",
    "\n",
    "- the title of the sequence (also called header) preceded by a '>'\n",
    "- the sequence\n"
   ]
  },
  {
   "cell_type": "raw",
   "id": "d1f492c1-fc32-49ed-a271-236b4a428ec3",
   "metadata": {},
   "source": [
    ">Wrapped_seq\n",
    "GGGAAAGGAAGGGGAAAAAAAAATTTTAAAGGAATTAAAGGAATGGAATTTAAAGGAGGAAATTTAAAAGAAAGAAGGGAATTGGTAAGGAAAGGAAAGGAA\n",
    "\n",
    ">MultiLine_seq\n",
    "GGGAATTTGGGGAAATTTAAAAGAAAGAAGGGAATTTGGGGAAATTTAAAAGAAAGAA\n",
    "GGAATTTAAAGGAGGAAATTTAAAAGAAAGAAGGGAATTGGTAAGGAAAGGAAAGGAA"
   ]
  },
  {
   "cell_type": "markdown",
   "id": "1c650d63-b087-4db5-80c9-62ffe2c57324",
   "metadata": {},
   "source": [
    "Notice how the the sequence can be wrapped or multiple lines? This can be frustrating whey trying to read fasta files using the core python functions.  "
   ]
  },
  {
   "cell_type": "code",
   "execution_count": 11,
   "id": "884b713c-6308-4c5b-8bed-9e563ba2eb7e",
   "metadata": {},
   "outputs": [
    {
     "name": "stdout",
     "output_type": "stream",
     "text": [
      ">Q9UMS0.2 RecName: Full=NFU1 iron-sulfur cluster scaffold homolog, mitochondrial; AltName: Full=HIRA-interacting protein 5; Flags: Precursor [Homo sapiens]\n",
      "\n",
      "MAATARRGWGAAAVAAGLRRRFCHMLKNPYTIKKQPLHQFVQRPLFPLPAAFYHPVRYMFIQTQDTPNPNSLKFIPGKPV\n",
      "\n",
      "LETRTMDFPTPAAAFRSPLARQLFRIEGVKSVFFGPDFITVTKENEELDWNLLKPDIYATIMDFFASGLPLVTEETPSGE\n",
      "\n",
      "AGSEEDDEVVAMIKELLDTRIRPTVQEDGGDVIYKGFEDGIVQLKLQGSCTSCPSSIITLKNGIQNMLQFYIPEVEGVEQ\n",
      "\n",
      "VMDDESDEKEANSP\n",
      "\n",
      "{'>Q9UMS0.2 RecName: Full=NFU1 iron-sulfur cluster scaffold homolog, mitochondrial; AltName: Full=HIRA-interacting protein 5; Flags: Precursor [Homo sapiens]': 'VMDDESDEKEANSP'}\n"
     ]
    }
   ],
   "source": [
    "# Let's try and make a dictionary storing \n",
    "# the sequence title as a key and the sequence as the value\n",
    "seqDict={}\n",
    "myLines = open(\"MyFastaLines.txt\").readlines()\n",
    "\n",
    "for line in myLines:\n",
    "    # you can see there are /n characters? these are 'end-of-line characters'\n",
    "    print(line)  \n",
    "    # we can remove these using '.strip()' function\n",
    "    l = line.strip()\n",
    "    # print(line)\n",
    "    \n",
    "    if  l.startswith(\">\"):\n",
    "        #Easy, if the line starts with a > then it must be the header\n",
    "        titleline= l\n",
    "        seqDict[titleline]=\"\"\n",
    "    else:\n",
    "        # The next line must be part of the sequence\n",
    "        seqDict[titleline]= l\n",
    "        \n",
    "# does this look right?\n",
    "print(seqDict)\n",
    "\n",
    "# How you could fix this code? "
   ]
  },
  {
   "cell_type": "code",
   "execution_count": null,
   "id": "a8f5a084-3750-4e62-9898-d62a584c3f58",
   "metadata": {},
   "outputs": [],
   "source": [
    "# seqDict[titleline]+= l\n"
   ]
  },
  {
   "cell_type": "markdown",
   "id": "7ead6fa1-edb3-41de-b8f4-a0fccd4006f7",
   "metadata": {},
   "source": [
    "### Writing fasta files - Python Core\n",
    "\n",
    "You can create a fasta file using python core from variables of your choosing. "
   ]
  },
  {
   "cell_type": "code",
   "execution_count": 12,
   "id": "0510dd31-05ec-45a8-8fc3-73732837dafd",
   "metadata": {},
   "outputs": [],
   "source": [
    "seqDict = {\"seq1\":\"AGTCGTA\", \"seq2\":\"GTCACTGC\"}\n",
    "\n",
    "#one way\n",
    "with open(\"myoutputSeq.fasta\",\"w\") as output:\n",
    "    for seq in seqDict:\n",
    "        output.write(\">\" + seq + \"\\n\" + seqDict[seq] + \"\\n\")\n",
    "        \n",
    "#another way using % operator\n",
    "with open(\"myoutputSeq.fasta\",\"w\") as output:\n",
    "    for seq in seqDict:\n",
    "        # %s operator is read as a placeholder for the strings in the parentheses \n",
    "        # after the string\n",
    "        output.write(\">%s\\n%s\\n\" % (seq, seqDict[seq]))\n"
   ]
  },
  {
   "cell_type": "markdown",
   "id": "b0001565-8188-46cf-9b23-b4f73914e004",
   "metadata": {},
   "source": [
    "### Biopython and Fasta files \n",
    "\n",
    "Of course, there is a much easier way to read and write fasta files using biopython using the `SeqIO` module. "
   ]
  },
  {
   "cell_type": "code",
   "execution_count": 15,
   "id": "dd10ed6b-0f38-4be5-8957-bb89da4e104d",
   "metadata": {},
   "outputs": [
    {
     "data": {
      "text/plain": [
       "43"
      ]
     },
     "execution_count": 15,
     "metadata": {},
     "output_type": "execute_result"
    }
   ],
   "source": [
    "from Bio import SeqIO\n",
    "\n",
    "# SeqIO.read takes two arguments, the file and the format of the file\n",
    "# you can use 'read' when you file has one sequence\n",
    "record = SeqIO.read(\"myFavouriteProtein_ncbi.fasta\", 'fasta')\n",
    "\n",
    "#Here is some information available in the 'record' object\n",
    "header = record.description\n",
    "id = record.id\n",
    "sequence = record.seq\n",
    "\n",
    "# You can write this record to another file\n",
    "SeqIO.write(record, \"myFavouriteProtein_ncbi_copy.fasta\", \"fasta\")\n",
    "\n",
    "# You can read a file with more than one sequence using  SeqIO.parse()\n",
    "outputList = []\n",
    "for record in SeqIO.parse(\"NFU1_proteins.fasta\", 'fasta'):\n",
    "    header = record.description\n",
    "    id = record.id\n",
    "    sequence = record\n",
    "    outputList.append(record)\n",
    "    # however, to write more than one sequence to a file using SeqIO, \n",
    "    # you have to save the record objects in a list and write them later\n",
    "   \n",
    "SeqIO.write(outputList, \"NFU1_proteins_copy.fasta\", \"fasta\")"
   ]
  },
  {
   "cell_type": "code",
   "execution_count": 6,
   "id": "1516dacf-9bfd-455a-894f-f6cfc7c8f265",
   "metadata": {},
   "outputs": [],
   "source": [
    "# HAND IN #5\n",
    "\n",
    "# Write a fasta parser for the fastafile 'NFU1_proteins.fasta'\n",
    "# Use this parser to indicate how many sequences are in the file\n",
    "\n",
    "# make a file with the longest sequence called 'NFU1_longestSeq.fasta'\n",
    "\n",
    "# save the lengths of all the proteins as a list 'seq_lengths'\n",
    "\n"
   ]
  }
 ],
 "metadata": {
  "kernelspec": {
   "display_name": "Python 3 (ipykernel)",
   "language": "python",
   "name": "python3"
  },
  "language_info": {
   "codemirror_mode": {
    "name": "ipython",
    "version": 3
   },
   "file_extension": ".py",
   "mimetype": "text/x-python",
   "name": "python",
   "nbconvert_exporter": "python",
   "pygments_lexer": "ipython3",
   "version": "3.9.7"
  }
 },
 "nbformat": 4,
 "nbformat_minor": 5
}
